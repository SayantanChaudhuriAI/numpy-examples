{
 "cells": [
  {
   "metadata": {
    "collapsed": true
   },
   "cell_type": "markdown",
   "source": "## Import NumPy",
   "id": "ecc306043869fb1d"
  },
  {
   "metadata": {
    "ExecuteTime": {
     "end_time": "2025-10-06T01:19:05.157187Z",
     "start_time": "2025-10-06T01:19:05.133937Z"
    }
   },
   "cell_type": "code",
   "source": "import numpy as np",
   "id": "5ca8182c4b771be1",
   "outputs": [],
   "execution_count": 1
  },
  {
   "metadata": {},
   "cell_type": "markdown",
   "source": "## Create a numpy array from tuple and list",
   "id": "af5ad12e2e870664"
  },
  {
   "metadata": {
    "ExecuteTime": {
     "end_time": "2025-10-06T01:19:05.161129Z",
     "start_time": "2025-10-06T01:19:05.159419Z"
    }
   },
   "cell_type": "code",
   "source": [
    "# Create a numpy array by passing tuple\n",
    "\n",
    "n = np.array ((1, 2, 3, 4, 5))\n",
    "\n",
    "print(f\"Original array: {n}\")\n",
    "\n",
    "print (f'\\ntype:', type(n))"
   ],
   "id": "ef6b79851119fc7e",
   "outputs": [
    {
     "name": "stdout",
     "output_type": "stream",
     "text": [
      "Original array: [1 2 3 4 5]\n",
      "\n",
      "type: <class 'numpy.ndarray'>\n"
     ]
    }
   ],
   "execution_count": 2
  },
  {
   "metadata": {
    "ExecuteTime": {
     "end_time": "2025-10-06T01:19:05.164514Z",
     "start_time": "2025-10-06T01:19:05.163023Z"
    }
   },
   "cell_type": "code",
   "source": [
    "# Create a numpy array from a list\n",
    "\n",
    "n = np.array ([1, 2, 3, 4, 5])\n",
    "\n",
    "print(f\"Original array: {n}\")\n",
    "\n",
    "print (f'\\nType:', type(n))"
   ],
   "id": "c473d84eca127c61",
   "outputs": [
    {
     "name": "stdout",
     "output_type": "stream",
     "text": [
      "Original array: [1 2 3 4 5]\n",
      "\n",
      "Type: <class 'numpy.ndarray'>\n"
     ]
    }
   ],
   "execution_count": 3
  },
  {
   "metadata": {},
   "cell_type": "markdown",
   "source": "## Create different dimensional arrays",
   "id": "7173ebd6c86755ba"
  },
  {
   "metadata": {},
   "cell_type": "markdown",
   "source": "### 0-D array",
   "id": "42bf93e980509b46"
  },
  {
   "metadata": {
    "ExecuteTime": {
     "end_time": "2025-10-06T01:19:05.167646Z",
     "start_time": "2025-10-06T01:19:05.166275Z"
    }
   },
   "cell_type": "code",
   "source": [
    "n = np.array (50)\n",
    "\n",
    "print(f\"Original array: {n}\")\n",
    "\n",
    "print (f'\\nDimension of array: {n.ndim}')"
   ],
   "id": "354df0402a6827a0",
   "outputs": [
    {
     "name": "stdout",
     "output_type": "stream",
     "text": [
      "Original array: 50\n",
      "\n",
      "Dimension of array: 0\n"
     ]
    }
   ],
   "execution_count": 4
  },
  {
   "metadata": {},
   "cell_type": "markdown",
   "source": "### 1-D array",
   "id": "c7ab2b4dd327bc10"
  },
  {
   "metadata": {
    "ExecuteTime": {
     "end_time": "2025-10-06T01:19:05.170831Z",
     "start_time": "2025-10-06T01:19:05.169350Z"
    }
   },
   "cell_type": "code",
   "source": [
    "n = np.array ([1, 2, 3, 4, 5])\n",
    "\n",
    "print(f\"Original array: {n}\")\n",
    "\n",
    "print (f'\\nDimension of array: {n.ndim}')"
   ],
   "id": "aa2246000f8c449",
   "outputs": [
    {
     "name": "stdout",
     "output_type": "stream",
     "text": [
      "Original array: [1 2 3 4 5]\n",
      "\n",
      "Dimension of array: 1\n"
     ]
    }
   ],
   "execution_count": 5
  },
  {
   "metadata": {},
   "cell_type": "markdown",
   "source": "### 2-D array",
   "id": "de4beb8edf38616c"
  },
  {
   "metadata": {
    "ExecuteTime": {
     "end_time": "2025-10-06T01:19:05.173967Z",
     "start_time": "2025-10-06T01:19:05.172547Z"
    }
   },
   "cell_type": "code",
   "source": [
    "n = np.array ([[1, 2], [3, 4], [5, 6]])\n",
    "\n",
    "print(f\"Original array: \\n{n}\")\n",
    "\n",
    "print (f'\\nDimension of array: {n.ndim}')"
   ],
   "id": "e8bff46d645df435",
   "outputs": [
    {
     "name": "stdout",
     "output_type": "stream",
     "text": [
      "Original array: \n",
      "[[1 2]\n",
      " [3 4]\n",
      " [5 6]]\n",
      "\n",
      "Dimension of array: 2\n"
     ]
    }
   ],
   "execution_count": 6
  },
  {
   "metadata": {},
   "cell_type": "markdown",
   "source": "#### 3-D array",
   "id": "281207951fc20ebd"
  },
  {
   "metadata": {
    "ExecuteTime": {
     "end_time": "2025-10-06T01:19:05.176920Z",
     "start_time": "2025-10-06T01:19:05.175453Z"
    }
   },
   "cell_type": "code",
   "source": [
    "n = np.array([[[1, 2, 3], [4, 5, 6]], [[7, 8, 9], [10, 11, 12]]])\n",
    "\n",
    "print(f\"Original array: \\n{n}\")\n",
    "\n",
    "print (f'\\nDimension of array: {n.ndim}')"
   ],
   "id": "77e5be2288e74bfe",
   "outputs": [
    {
     "name": "stdout",
     "output_type": "stream",
     "text": [
      "Original array: \n",
      "[[[ 1  2  3]\n",
      "  [ 4  5  6]]\n",
      "\n",
      " [[ 7  8  9]\n",
      "  [10 11 12]]]\n",
      "\n",
      "Dimension of array: 3\n"
     ]
    }
   ],
   "execution_count": 7
  },
  {
   "metadata": {},
   "cell_type": "markdown",
   "source": "## Initialize arrays with zeros",
   "id": "ae69290379f2abac"
  },
  {
   "metadata": {
    "ExecuteTime": {
     "end_time": "2025-10-06T01:19:05.179794Z",
     "start_time": "2025-10-06T01:19:05.178284Z"
    }
   },
   "cell_type": "code",
   "source": [
    "n = np.zeros((3, 4))\n",
    "\n",
    "print(f\"Original array: \\n{n}\")\n",
    "\n",
    "print (f'\\nDimension of array: {n.ndim}')"
   ],
   "id": "a650f0fdf0b2f132",
   "outputs": [
    {
     "name": "stdout",
     "output_type": "stream",
     "text": [
      "Original array: \n",
      "[[0. 0. 0. 0.]\n",
      " [0. 0. 0. 0.]\n",
      " [0. 0. 0. 0.]]\n",
      "\n",
      "Dimension of array: 2\n"
     ]
    }
   ],
   "execution_count": 8
  },
  {
   "metadata": {},
   "cell_type": "markdown",
   "source": [
    "## Numpy supports following data types\n",
    "- b - boolean\n",
    "- u - unsigned integer\n",
    "- f - float\n",
    "- c - complex float\n",
    "- m - timedelta\n",
    "- M - datetime\n",
    "- O - object\n",
    "- S - string\n",
    "- U - unicode string"
   ],
   "id": "e208f3d16700d6ac"
  },
  {
   "metadata": {
    "ExecuteTime": {
     "end_time": "2025-10-06T01:19:05.182528Z",
     "start_time": "2025-10-06T01:19:05.181188Z"
    }
   },
   "cell_type": "code",
   "source": [
    "n = np.array([1, 2, 3, 4])\n",
    "\n",
    "print(f\"Original array: {n}\")\n",
    "\n",
    "print (f'\\nData type of array: {n.dtype}')"
   ],
   "id": "ffb8e31eb28a3d34",
   "outputs": [
    {
     "name": "stdout",
     "output_type": "stream",
     "text": [
      "Original array: [1 2 3 4]\n",
      "\n",
      "Data type of array: int64\n"
     ]
    }
   ],
   "execution_count": 9
  },
  {
   "metadata": {
    "ExecuteTime": {
     "end_time": "2025-10-06T01:19:05.185242Z",
     "start_time": "2025-10-06T01:19:05.183956Z"
    }
   },
   "cell_type": "code",
   "source": [
    "n = np.array ([\"Andrew\", \"John\", \"Mary\"])\n",
    "\n",
    "print(f\"Original array: {n}\")\n",
    "\n",
    "print (f'\\nData type of array: {n.dtype}')"
   ],
   "id": "87fdeaa1a6a62eb2",
   "outputs": [
    {
     "name": "stdout",
     "output_type": "stream",
     "text": [
      "Original array: ['Andrew' 'John' 'Mary']\n",
      "\n",
      "Data type of array: <U6\n"
     ]
    }
   ],
   "execution_count": 10
  },
  {
   "metadata": {
    "ExecuteTime": {
     "end_time": "2025-10-06T01:19:05.187955Z",
     "start_time": "2025-10-06T01:19:05.186688Z"
    }
   },
   "cell_type": "code",
   "source": [
    "n = np.array ([\"Andrew\", \"John\", \"Mary\"], dtype='S')\n",
    "\n",
    "print(f\"Original array: {n}\")\n",
    "\n",
    "print (f'\\nData type of array: {n.dtype}')"
   ],
   "id": "9339a1885a274485",
   "outputs": [
    {
     "name": "stdout",
     "output_type": "stream",
     "text": [
      "Original array: [b'Andrew' b'John' b'Mary']\n",
      "\n",
      "Data type of array: |S6\n"
     ]
    }
   ],
   "execution_count": 11
  },
  {
   "metadata": {},
   "cell_type": "markdown",
   "source": "## Converting data type of array",
   "id": "df0c487bcd1dfa6b"
  },
  {
   "metadata": {
    "ExecuteTime": {
     "end_time": "2025-10-06T01:19:05.190876Z",
     "start_time": "2025-10-06T01:19:05.189349Z"
    }
   },
   "cell_type": "code",
   "source": [
    "n = np.array([\"1\", \"2\", \"3\", \"4\"])\n",
    "\n",
    "print(f\"Original array: {n}\")\n",
    "\n",
    "print (f'\\nData type of array: {n.dtype}')\n",
    "\n",
    "n = n.astype(int)\n",
    "\n",
    "print(f\"After convert to string to int : {n}\")\n",
    "\n",
    "print (f'Data type of array: {n.dtype}')"
   ],
   "id": "29299a43a9fdd041",
   "outputs": [
    {
     "name": "stdout",
     "output_type": "stream",
     "text": [
      "Original array: ['1' '2' '3' '4']\n",
      "\n",
      "Data type of array: <U1\n",
      "After convert to string to int : [1 2 3 4]\n",
      "Data type of array: int64\n"
     ]
    }
   ],
   "execution_count": 12
  },
  {
   "metadata": {},
   "cell_type": "markdown",
   "source": "## Accessing array elements with index ( 0 is the first index)",
   "id": "cc9e75c34d28d5b9"
  },
  {
   "metadata": {},
   "cell_type": "markdown",
   "source": "### Accessing elements of 1-D array",
   "id": "f029f48303f97013"
  },
  {
   "metadata": {
    "ExecuteTime": {
     "end_time": "2025-10-06T01:19:05.193934Z",
     "start_time": "2025-10-06T01:19:05.192262Z"
    }
   },
   "cell_type": "code",
   "source": [
    "n = np.array([\"1\", \"2\", \"3\", \"4\"], dtype='int')\n",
    "\n",
    "print(f\"Original array: {n}\")\n",
    "\n",
    "print (f'\\nElement at index 0: {n[0]} and data type: {n[0].dtype}')\n",
    "print (f'Element at index 1: {n[1]} and data type: {n[1].dtype}')\n",
    "print (f'Element at index 2: {n[2]} and data type: {n[2].dtype}')\n",
    "print (f'Element at index 3: {n[3]} and data type: {n[3].dtype}')"
   ],
   "id": "ad1be8e765163801",
   "outputs": [
    {
     "name": "stdout",
     "output_type": "stream",
     "text": [
      "Original array: [1 2 3 4]\n",
      "\n",
      "Element at index 0: 1 and data type: int64\n",
      "Element at index 1: 2 and data type: int64\n",
      "Element at index 2: 3 and data type: int64\n",
      "Element at index 3: 4 and data type: int64\n"
     ]
    }
   ],
   "execution_count": 13
  },
  {
   "metadata": {},
   "cell_type": "markdown",
   "source": "### Accessing elements of 2-D array",
   "id": "a5cb6dd7e6643fcc"
  },
  {
   "metadata": {
    "ExecuteTime": {
     "end_time": "2025-10-06T01:19:05.197633Z",
     "start_time": "2025-10-06T01:19:05.195328Z"
    }
   },
   "cell_type": "code",
   "source": [
    "n = np.array ([[1, 2], [3, 4], [5, 6]])\n",
    "\n",
    "print(f\"Original array: {n}\")\n",
    "\n",
    "print (f'\\n\\nFirst set {n[0]} and data type: {n[0].dtype}')\n",
    "print (f'Second set {n[1]} and data type: {n[1].dtype}')\n",
    "print (f'Third set {n[2]} and data type: {n[2].dtype}\\n\\n')\n",
    "\n",
    "print (f'Element at row 0 and column 0: {n[0, 0]} and data type: {n[0, 0].dtype}')\n",
    "print (f'Element at row 0 and column 1: {n[0, 1]} and data type: {n[0, 1].dtype}')\n",
    "print (f'Element at row 1 and column 0: {n[1, 0]} and data type: {n[1, 0].dtype}')\n",
    "print (f'Element at row 1 and column 1: {n[1, 1]} and data type: {n[1, 1].dtype}')\n",
    "print (f'Element at row 2 and column 0: {n[2, 0]} and data type: {n[2, 0].dtype}')\n",
    "print (f'Element at row 2 and column 1: {n[2, 1]} and data type: {n[2, 1].dtype}')"
   ],
   "id": "dfb993f0371306cc",
   "outputs": [
    {
     "name": "stdout",
     "output_type": "stream",
     "text": [
      "Original array: [[1 2]\n",
      " [3 4]\n",
      " [5 6]]\n",
      "\n",
      "\n",
      "First set [1 2] and data type: int64\n",
      "Second set [3 4] and data type: int64\n",
      "Third set [5 6] and data type: int64\n",
      "\n",
      "\n",
      "Element at row 0 and column 0: 1 and data type: int64\n",
      "Element at row 0 and column 1: 2 and data type: int64\n",
      "Element at row 1 and column 0: 3 and data type: int64\n",
      "Element at row 1 and column 1: 4 and data type: int64\n",
      "Element at row 2 and column 0: 5 and data type: int64\n",
      "Element at row 2 and column 1: 6 and data type: int64\n"
     ]
    }
   ],
   "execution_count": 14
  },
  {
   "metadata": {},
   "cell_type": "markdown",
   "source": "### Accessing elements of 3-D array",
   "id": "dd02b74ebaa18719"
  },
  {
   "metadata": {
    "ExecuteTime": {
     "end_time": "2025-10-06T01:19:05.202022Z",
     "start_time": "2025-10-06T01:19:05.198980Z"
    }
   },
   "cell_type": "code",
   "source": [
    "n = np.array([\n",
    "                    [\n",
    "                        [1, 2, 3],\n",
    "                        [4, 5, 6]\n",
    "                    ],\n",
    "                    [\n",
    "                        [7, 8, 9],\n",
    "                        [10, 11, 12]\n",
    "                    ]\n",
    "                ])\n",
    "\n",
    "print(f\"Original array: \\n{n}\")\n",
    "\n",
    "print (f'\\n\\nFirst depth {n[0]} and data type: {n[0].dtype}')\n",
    "print (f'Second depth {n[1]} and data type: {n[1].dtype}\\n\\n')\n",
    "\n",
    "print (f'First row of first depth {n[0, 0]} and data type: {n[0, 0].dtype}')\n",
    "print (f'Second row of first depth {n[0, 1]} and data type: {n[0, 1].dtype}')\n",
    "print (f'First row of second depth {n[1, 0]} and data type: {n[1, 0].dtype}')\n",
    "print (f'Second row of second depth {n[1, 1]} and data type: {n[1, 1].dtype}\\n\\n')\n",
    "\n",
    "print (f'Element at depth 0, row 0 and column 0: {n[0, 0, 0]} and data type: {n[0, 0, 0].dtype}')\n",
    "print (f'Element at depth 0, row 0 and column 1: {n[0, 0, 1]} and data type: {n[0, 0, 1].dtype}')\n",
    "print (f'Element at depth 0, row 0 and column 2: {n[0, 0, 2]} and data type: {n[0, 0, 2].dtype}')\n",
    "print (f'Element at depth 0, row 1 and column 0: {n[0, 1, 0]} and data type: {n[0, 1, 0].dtype}')\n",
    "print (f'Element at depth 0, row 1 and column 1: {n[0, 1, 1]} and data type: {n[0, 1, 1].dtype}')\n",
    "print (f'Element at depth 0, row 1 and column 2: {n[0, 1, 2]} and data type: {n[0, 1, 2].dtype}')\n",
    "print (f'Element at depth 1, row 0 and column 0: {n[1, 0, 0]} and data type: {n[1, 0, 0].dtype}')\n",
    "print (f'Element at depth 1, row 0 and column 1: {n[1, 0, 1]} and data type: {n[1, 0, 1].dtype}')\n",
    "print (f'Element at depth 1, row 0 and column 2: {n[1, 0, 2]} and data type: {n[1, 0, 2].dtype}')\n",
    "print (f'Element at depth 1, row 1 and column 0: {n[1, 1, 0]} and data type: {n[1, 1, 0].dtype}')\n",
    "print (f'Element at depth 1, row 1 and column 1: {n[1, 1, 1]} and data type: {n[1, 1, 1].dtype}')\n",
    "print (f'Element at depth 1, row 1 and column 2: {n[1, 1, 2]} and data type: {n[1, 1, 2].dtype}')"
   ],
   "id": "9e61f3d61ccb10b4",
   "outputs": [
    {
     "name": "stdout",
     "output_type": "stream",
     "text": [
      "Original array: \n",
      "[[[ 1  2  3]\n",
      "  [ 4  5  6]]\n",
      "\n",
      " [[ 7  8  9]\n",
      "  [10 11 12]]]\n",
      "\n",
      "\n",
      "First depth [[1 2 3]\n",
      " [4 5 6]] and data type: int64\n",
      "Second depth [[ 7  8  9]\n",
      " [10 11 12]] and data type: int64\n",
      "\n",
      "\n",
      "First row of first depth [1 2 3] and data type: int64\n",
      "Second row of first depth [4 5 6] and data type: int64\n",
      "First row of second depth [7 8 9] and data type: int64\n",
      "Second row of second depth [10 11 12] and data type: int64\n",
      "\n",
      "\n",
      "Element at depth 0, row 0 and column 0: 1 and data type: int64\n",
      "Element at depth 0, row 0 and column 1: 2 and data type: int64\n",
      "Element at depth 0, row 0 and column 2: 3 and data type: int64\n",
      "Element at depth 0, row 1 and column 0: 4 and data type: int64\n",
      "Element at depth 0, row 1 and column 1: 5 and data type: int64\n",
      "Element at depth 0, row 1 and column 2: 6 and data type: int64\n",
      "Element at depth 1, row 0 and column 0: 7 and data type: int64\n",
      "Element at depth 1, row 0 and column 1: 8 and data type: int64\n",
      "Element at depth 1, row 0 and column 2: 9 and data type: int64\n",
      "Element at depth 1, row 1 and column 0: 10 and data type: int64\n",
      "Element at depth 1, row 1 and column 1: 11 and data type: int64\n",
      "Element at depth 1, row 1 and column 2: 12 and data type: int64\n"
     ]
    }
   ],
   "execution_count": 15
  },
  {
   "metadata": {},
   "cell_type": "markdown",
   "source": "## Negative indexing (it starts from -1 and goes from right to left)",
   "id": "6e156b246bc14a54"
  },
  {
   "metadata": {},
   "cell_type": "markdown",
   "source": "#### Negative indexing in 1-D array",
   "id": "3d98d0e1ac18c28d"
  },
  {
   "metadata": {
    "ExecuteTime": {
     "end_time": "2025-10-06T01:19:05.205126Z",
     "start_time": "2025-10-06T01:19:05.203356Z"
    }
   },
   "cell_type": "code",
   "source": [
    "n = np.array ([\"1\", \"2\", \"3\", \"4\"], dtype='int')\n",
    "\n",
    "print(f\"Original array: {n}\")\n",
    "\n",
    "print (f'\\nElement at index -1 (first from last element): {n[-1]} and data type: {n[-1].dtype}')\n",
    "print (f'Element at index -2 (second from last element): {n[-2]} and data type: {n[-2].dtype}')\n",
    "print (f'Element at index -3 (third from last element): {n[-3]} and data type: {n[-3].dtype}')\n",
    "print (f'Element at index -4 (fourth from last element): {n[-4]} and data type: {n[-4].dtype}')"
   ],
   "id": "7e7268f830c41a17",
   "outputs": [
    {
     "name": "stdout",
     "output_type": "stream",
     "text": [
      "Original array: [1 2 3 4]\n",
      "\n",
      "Element at index -1 (first from last element): 4 and data type: int64\n",
      "Element at index -2 (second from last element): 3 and data type: int64\n",
      "Element at index -3 (third from last element): 2 and data type: int64\n",
      "Element at index -4 (fourth from last element): 1 and data type: int64\n"
     ]
    }
   ],
   "execution_count": 16
  },
  {
   "metadata": {},
   "cell_type": "markdown",
   "source": "#### Negative indexing in 2-D array",
   "id": "a30b6ae75f0b0ab0"
  },
  {
   "metadata": {
    "ExecuteTime": {
     "end_time": "2025-10-06T01:19:05.208424Z",
     "start_time": "2025-10-06T01:19:05.206467Z"
    }
   },
   "cell_type": "code",
   "source": [
    "n = np.array ([\n",
    "                    [1, 2],\n",
    "                    [3, 4],\n",
    "                    [5, 6]\n",
    "                ])\n",
    "\n",
    "print(f\"Original array: \\n{n}\")\n",
    "\n",
    "print (f'\\nElement at row -1 and column -1: {n[-1, -1]} and data type: {n[-1, -1].dtype}')\n",
    "print (f'Element at row -1 and column -2: {n[-1, -2]} and data type: {n[-1, -2].dtype}')\n",
    "print (f'Element at row -2 and column -1: {n[-2, -1]} and data type: {n[-2, -1].dtype}')\n",
    "print (f'Element at row -2 and column -2: {n[-2, -2]} and data type: {n[-2, -2].dtype}')\n",
    "print (f'Element at row -3 and column -1: {n[-3, -1]} and data type: {n[-3, -1].dtype}')\n",
    "print (f'Element at row -3 and column -2: {n[-3, -2]} and data type: {n[-3, -2].dtype}')"
   ],
   "id": "3b8e76e766482507",
   "outputs": [
    {
     "name": "stdout",
     "output_type": "stream",
     "text": [
      "Original array: \n",
      "[[1 2]\n",
      " [3 4]\n",
      " [5 6]]\n",
      "\n",
      "Element at row -1 and column -1: 6 and data type: int64\n",
      "Element at row -1 and column -2: 5 and data type: int64\n",
      "Element at row -2 and column -1: 4 and data type: int64\n",
      "Element at row -2 and column -2: 3 and data type: int64\n",
      "Element at row -3 and column -1: 2 and data type: int64\n",
      "Element at row -3 and column -2: 1 and data type: int64\n"
     ]
    }
   ],
   "execution_count": 17
  },
  {
   "metadata": {},
   "cell_type": "markdown",
   "source": [
    "## Slicing of arrays\n",
    "### e.g. array[start:end:step] ( here start is inclusive and end is exclusive)\n",
    "\n",
    "![<img src=\"./images/array-slicing.png\" width=\"550\" height=\"300](images/array-slicing.png)"
   ],
   "id": "8504f5d864d8f256"
  },
  {
   "metadata": {
    "ExecuteTime": {
     "end_time": "2025-10-06T01:19:05.212301Z",
     "start_time": "2025-10-06T01:19:05.210788Z"
    }
   },
   "cell_type": "code",
   "source": [
    "# Slicing from 1 to 3 (3 is excluded)\n",
    "\n",
    "n = np.array ([10, 20, 30, 40, 50, 60, 70, 80, 90, 100])\n",
    "\n",
    "print(f\"Original array: {n}\")\n",
    "\n",
    "s = n[1:3]\n",
    "print (f'\\nSliced array from index 1 to 3 (3 is excluded): {s}')"
   ],
   "id": "b69a65f7ac635d02",
   "outputs": [
    {
     "name": "stdout",
     "output_type": "stream",
     "text": [
      "Original array: [ 10  20  30  40  50  60  70  80  90 100]\n",
      "\n",
      "Sliced array from index 1 to 3 (3 is excluded): [20 30]\n"
     ]
    }
   ],
   "execution_count": 18
  },
  {
   "metadata": {
    "ExecuteTime": {
     "end_time": "2025-10-06T01:19:05.220424Z",
     "start_time": "2025-10-06T01:19:05.218678Z"
    }
   },
   "cell_type": "code",
   "source": [
    "# Slicing from Index 2 to 5 (5 is excluded)\n",
    "\n",
    "n = np.array ([10, 20, 30, 40, 50, 60, 70, 80, 90, 100])\n",
    "print(f\"Original array: {n}\")\n",
    "\n",
    "s = n[2:5]\n",
    "print (f'\\nSliced array from index 2 to 5 (5 is excluded): {s}')"
   ],
   "id": "67e2b4274d0edf6e",
   "outputs": [
    {
     "name": "stdout",
     "output_type": "stream",
     "text": [
      "Original array: [ 10  20  30  40  50  60  70  80  90 100]\n",
      "\n",
      "Sliced array from index 2 to 5 (5 is excluded): [30 40 50]\n"
     ]
    }
   ],
   "execution_count": 19
  },
  {
   "metadata": {
    "ExecuteTime": {
     "end_time": "2025-10-06T01:19:05.226250Z",
     "start_time": "2025-10-06T01:19:05.224536Z"
    }
   },
   "cell_type": "code",
   "source": [
    "# Slicing from index 5 to end\n",
    "\n",
    "n = np.array ([10, 20, 30, 40, 50, 60, 70, 80, 90, 100])\n",
    "print(f\"Original array: {n}\")\n",
    "\n",
    "s = n[5:]\n",
    "print (f'\\nSliced array from index 5 to end: {s}')"
   ],
   "id": "6cd1b3e3b7efd1bd",
   "outputs": [
    {
     "name": "stdout",
     "output_type": "stream",
     "text": [
      "Original array: [ 10  20  30  40  50  60  70  80  90 100]\n",
      "\n",
      "Sliced array from index 5 to end: [ 60  70  80  90 100]\n"
     ]
    }
   ],
   "execution_count": 20
  },
  {
   "metadata": {
    "ExecuteTime": {
     "end_time": "2025-10-06T01:19:05.232112Z",
     "start_time": "2025-10-06T01:19:05.230412Z"
    }
   },
   "cell_type": "code",
   "source": [
    "# Slicing from start to index 5 (5 is excluded)\n",
    "\n",
    "n = np.array ([10, 20, 30, 40, 50, 60, 70, 80, 90, 100])\n",
    "\n",
    "print(f\"Original array: {n}\")\n",
    "\n",
    "s = n[:5]\n",
    "print (f'\\nSliced array from start to index 5 (5 is excluded): {s}')"
   ],
   "id": "45a7d2124cd141a6",
   "outputs": [
    {
     "name": "stdout",
     "output_type": "stream",
     "text": [
      "Original array: [ 10  20  30  40  50  60  70  80  90 100]\n",
      "\n",
      "Sliced array from start to index 5 (5 is excluded): [10 20 30 40 50]\n"
     ]
    }
   ],
   "execution_count": 21
  },
  {
   "metadata": {
    "ExecuteTime": {
     "end_time": "2025-10-06T01:19:05.238470Z",
     "start_time": "2025-10-06T01:19:05.236689Z"
    }
   },
   "cell_type": "code",
   "source": [
    "# Slicing with step for 1D array\n",
    "\n",
    "n = np.array ([10, 20, 30, 40, 50, 60, 70, 80, 90, 100])\n",
    "\n",
    "print(f\"Original array: {n}\")\n",
    "\n",
    "s = n[1:10:2]\n",
    "print (f'\\nSliced array from index 1 to 10 with step 2: {s}')"
   ],
   "id": "c032c01d68ff48da",
   "outputs": [
    {
     "name": "stdout",
     "output_type": "stream",
     "text": [
      "Original array: [ 10  20  30  40  50  60  70  80  90 100]\n",
      "\n",
      "Sliced array from index 1 to 10 with step 2: [ 20  40  60  80 100]\n"
     ]
    }
   ],
   "execution_count": 22
  },
  {
   "metadata": {
    "ExecuteTime": {
     "end_time": "2025-10-06T01:19:05.244242Z",
     "start_time": "2025-10-06T01:19:05.242347Z"
    }
   },
   "cell_type": "code",
   "source": [
    "# Slicing with step for 2D array\n",
    "\n",
    "n = np.array ([[1, 2, 3, 4, 5, 6, 7, 8, 9, 10],\n",
    "              [11, 12, 13, 14, 15, 16, 17, 18, 19, 20],\n",
    "              [21, 22, 23, 24, 25, 26, 27, 28, 29, 30],\n",
    "              [31, 32, 33, 34, 35, 36, 37, 38, 39, 40],\n",
    "              [41, 42, 43, 44, 45, 46, 47, 48, 49, 50]])\n",
    "\n",
    "print(f\"Original array: \\n{n}\")\n",
    "\n",
    "s = n[0, 2:5]\n",
    "print (f'\\nSliced array from row 0 and index 2 to 5: {s}')"
   ],
   "id": "3fc160e232d641a9",
   "outputs": [
    {
     "name": "stdout",
     "output_type": "stream",
     "text": [
      "Original array: \n",
      "[[ 1  2  3  4  5  6  7  8  9 10]\n",
      " [11 12 13 14 15 16 17 18 19 20]\n",
      " [21 22 23 24 25 26 27 28 29 30]\n",
      " [31 32 33 34 35 36 37 38 39 40]\n",
      " [41 42 43 44 45 46 47 48 49 50]]\n",
      "\n",
      "Sliced array from row 0 and index 2 to 5: [3 4 5]\n"
     ]
    }
   ],
   "execution_count": 23
  },
  {
   "metadata": {
    "ExecuteTime": {
     "end_time": "2025-10-06T01:19:05.252388Z",
     "start_time": "2025-10-06T01:19:05.250515Z"
    }
   },
   "cell_type": "code",
   "source": [
    "# Slicing for both the dimensions in 2D array\n",
    "\n",
    "n = np.array ([\n",
    "                    [1, 2, 3, 4, 5, 6, 7, 8, 9, 10],\n",
    "                    [11, 12, 13, 14, 15, 16, 17, 18, 19, 20],\n",
    "                    [21, 22, 23, 24, 25, 26, 27, 28, 29, 30],\n",
    "                    [31, 32, 33, 34, 35, 36, 37, 38, 39, 40],\n",
    "                    [41, 42, 43, 44, 45, 46, 47, 48, 49, 50]\n",
    "                ])\n",
    "\n",
    "print(f\"Original array: \\n{n}\")\n",
    "\n",
    "s = n[0:2, 2:5]\n",
    "\n",
    "print (f'\\nSliced array from row 0 to 2 and index 2 to 5: \\n{s}')"
   ],
   "id": "9171365f479fc0e5",
   "outputs": [
    {
     "name": "stdout",
     "output_type": "stream",
     "text": [
      "Original array: \n",
      "[[ 1  2  3  4  5  6  7  8  9 10]\n",
      " [11 12 13 14 15 16 17 18 19 20]\n",
      " [21 22 23 24 25 26 27 28 29 30]\n",
      " [31 32 33 34 35 36 37 38 39 40]\n",
      " [41 42 43 44 45 46 47 48 49 50]]\n",
      "\n",
      "Sliced array from row 0 to 2 and index 2 to 5: \n",
      "[[ 3  4  5]\n",
      " [13 14 15]]\n"
     ]
    }
   ],
   "execution_count": 24
  },
  {
   "metadata": {},
   "cell_type": "markdown",
   "source": "## Array Shape",
   "id": "5c264a17304715c2"
  },
  {
   "metadata": {
    "ExecuteTime": {
     "end_time": "2025-10-06T01:19:05.260984Z",
     "start_time": "2025-10-06T01:19:05.259247Z"
    }
   },
   "cell_type": "code",
   "source": [
    "# Check the shape of a 0-D array\n",
    "\n",
    "n = np.array (10)\n",
    "\n",
    "print(f\"Original array: {n}\")\n",
    "\n",
    "print(f'\\nDimension of array: {n.ndim}')\n",
    "print (f'Shape of array: {n.shape}')"
   ],
   "id": "4c3c59db890ea7dc",
   "outputs": [
    {
     "name": "stdout",
     "output_type": "stream",
     "text": [
      "Original array: 10\n",
      "\n",
      "Dimension of array: 0\n",
      "Shape of array: ()\n"
     ]
    }
   ],
   "execution_count": 25
  },
  {
   "metadata": {
    "ExecuteTime": {
     "end_time": "2025-10-06T01:19:05.266770Z",
     "start_time": "2025-10-06T01:19:05.265217Z"
    }
   },
   "cell_type": "code",
   "source": [
    "# Check the shape of a 1-D array\n",
    "\n",
    "n = np.array ([10, 20, 30, 40, 50, 60, 70, 80, 90, 100])\n",
    "print(f\"Original array: {n}\")\n",
    "\n",
    "print(f'\\nDimension of array: {n.ndim}')\n",
    "print (f'Shape of array: {n.shape}')"
   ],
   "id": "9b39aab8acb20ced",
   "outputs": [
    {
     "name": "stdout",
     "output_type": "stream",
     "text": [
      "Original array: [ 10  20  30  40  50  60  70  80  90 100]\n",
      "\n",
      "Dimension of array: 1\n",
      "Shape of array: (10,)\n"
     ]
    }
   ],
   "execution_count": 26
  },
  {
   "metadata": {
    "ExecuteTime": {
     "end_time": "2025-10-06T01:19:05.270095Z",
     "start_time": "2025-10-06T01:19:05.268363Z"
    }
   },
   "cell_type": "code",
   "source": [
    "# Check the shape of a 2-D array\n",
    "\n",
    "n = np.array ([[1, 2, 3, 4, 5, 6, 7, 8, 9, 10],\n",
    "              [11, 12, 13, 14, 15, 16, 17, 18, 19, 20],\n",
    "              [21, 22, 23, 24, 25, 26, 27, 28, 29, 30],\n",
    "              [31, 32, 33, 34, 35, 36, 37, 38, 39, 40],\n",
    "              [41, 42, 43, 44, 45, 46, 47, 48, 49, 50]])\n",
    "\n",
    "print(f\"Original array: \\n{n}\")\n",
    "\n",
    "print(f'\\nDimension of array: {n.ndim}')\n",
    "print (f'Shape of array: {n.shape}')\n"
   ],
   "id": "4e9bf1550e22f23f",
   "outputs": [
    {
     "name": "stdout",
     "output_type": "stream",
     "text": [
      "Original array: \n",
      "[[ 1  2  3  4  5  6  7  8  9 10]\n",
      " [11 12 13 14 15 16 17 18 19 20]\n",
      " [21 22 23 24 25 26 27 28 29 30]\n",
      " [31 32 33 34 35 36 37 38 39 40]\n",
      " [41 42 43 44 45 46 47 48 49 50]]\n",
      "\n",
      "Dimension of array: 2\n",
      "Shape of array: (5, 10)\n"
     ]
    }
   ],
   "execution_count": 27
  },
  {
   "metadata": {
    "ExecuteTime": {
     "end_time": "2025-10-06T01:19:05.273173Z",
     "start_time": "2025-10-06T01:19:05.271639Z"
    }
   },
   "cell_type": "code",
   "source": [
    "# Check the shape of a 3-D array\n",
    "\n",
    "n = np.array([\n",
    "                [\n",
    "                    [1, 2, 3],\n",
    "                    [4, 5, 6]\n",
    "                ],\n",
    "                [\n",
    "                    [7, 8, 9],\n",
    "                    [10, 11, 12]\n",
    "                ]\n",
    "            ])\n",
    "print(f\"Original array: \\n{n}\")\n",
    "\n",
    "print(f'\\nDimension of array: {n.ndim}')\n",
    "print (f'Shape of array: {n.shape}')"
   ],
   "id": "afc9aba87041b0da",
   "outputs": [
    {
     "name": "stdout",
     "output_type": "stream",
     "text": [
      "Original array: \n",
      "[[[ 1  2  3]\n",
      "  [ 4  5  6]]\n",
      "\n",
      " [[ 7  8  9]\n",
      "  [10 11 12]]]\n",
      "\n",
      "Dimension of array: 3\n",
      "Shape of array: (2, 2, 3)\n"
     ]
    }
   ],
   "execution_count": 28
  },
  {
   "metadata": {},
   "cell_type": "markdown",
   "source": "## Reshaping of arrays",
   "id": "49f4226bc46693ef"
  },
  {
   "metadata": {
    "ExecuteTime": {
     "end_time": "2025-10-06T01:19:05.276260Z",
     "start_time": "2025-10-06T01:19:05.274590Z"
    }
   },
   "cell_type": "code",
   "source": [
    "# Reshape the array\n",
    "\n",
    "n = np.array ([10, 20, 30, 40, 50, 60, 70, 80, 90, 100])\n",
    "\n",
    "print(f\"Original array: {n}\")\n",
    "print(f'\\nOriginal shape of array: {n.shape}')\n",
    "\n",
    "resarr = n.reshape(2, 5)\n",
    "\n",
    "print(f'\\nReshaped array: \\n{resarr}')\n",
    "print(f'\\nReshaped shape of array: {resarr.shape}')"
   ],
   "id": "f5d7acfdd0495168",
   "outputs": [
    {
     "name": "stdout",
     "output_type": "stream",
     "text": [
      "Original array: [ 10  20  30  40  50  60  70  80  90 100]\n",
      "\n",
      "Original shape of array: (10,)\n",
      "\n",
      "Reshaped array: \n",
      "[[ 10  20  30  40  50]\n",
      " [ 60  70  80  90 100]]\n",
      "\n",
      "Reshaped shape of array: (2, 5)\n"
     ]
    }
   ],
   "execution_count": 29
  },
  {
   "metadata": {
    "ExecuteTime": {
     "end_time": "2025-10-06T01:19:05.279331Z",
     "start_time": "2025-10-06T01:19:05.277650Z"
    }
   },
   "cell_type": "code",
   "source": [
    "# Convert 3-D array into 1-D array\n",
    "\n",
    "n = np.array([\n",
    "                [\n",
    "                    [1, 2, 3],\n",
    "                    [4, 5, 6]\n",
    "                ],\n",
    "                [\n",
    "                    [7, 8, 9],\n",
    "                    [10, 11, 12]\n",
    "                ]\n",
    "            ])\n",
    "\n",
    "print(f\"Original array: \\n{n}\")\n",
    "print(f'\\nOriginal dim of array: {n.ndim}')\n",
    "print(f'Original shape of array: {n.shape}')\n",
    "\n",
    "resarr = n.reshape(-1)\n",
    "print(f'Reshaped array: {resarr}')\n",
    "print(f'Reshaped shape of array: {resarr.shape}')"
   ],
   "id": "5800bd57ed6d53c4",
   "outputs": [
    {
     "name": "stdout",
     "output_type": "stream",
     "text": [
      "Original array: \n",
      "[[[ 1  2  3]\n",
      "  [ 4  5  6]]\n",
      "\n",
      " [[ 7  8  9]\n",
      "  [10 11 12]]]\n",
      "\n",
      "Original dim of array: 3\n",
      "Original shape of array: (2, 2, 3)\n",
      "Reshaped array: [ 1  2  3  4  5  6  7  8  9 10 11 12]\n",
      "Reshaped shape of array: (12,)\n"
     ]
    }
   ],
   "execution_count": 30
  },
  {
   "metadata": {},
   "cell_type": "markdown",
   "source": "## Iterating arrays",
   "id": "687d6280ec26bddf"
  },
  {
   "metadata": {
    "ExecuteTime": {
     "end_time": "2025-10-06T01:19:05.282313Z",
     "start_time": "2025-10-06T01:19:05.280606Z"
    }
   },
   "cell_type": "code",
   "source": [
    "n = np.array ([10, 20, 30, 40, 50, 60, 70, 80, 90, 100])\n",
    "\n",
    "print(f\"Original array: {n}\")\n",
    "\n",
    "print(f\"\\nIterating 1-D array:\")\n",
    "for i in n:\n",
    "    print(i)\n",
    "\n",
    "print(f\"\\nType of each element: {n[0].dtype}\")\n",
    "print(f\"Data type: {type(n.dtype)}\")\n",
    "print(f\"Dimension of array: {n.ndim}\")"
   ],
   "id": "9f73e7e5a454af72",
   "outputs": [
    {
     "name": "stdout",
     "output_type": "stream",
     "text": [
      "Original array: [ 10  20  30  40  50  60  70  80  90 100]\n",
      "\n",
      "Iterating 1-D array:\n",
      "10\n",
      "20\n",
      "30\n",
      "40\n",
      "50\n",
      "60\n",
      "70\n",
      "80\n",
      "90\n",
      "100\n",
      "\n",
      "Type of each element: int64\n",
      "Data type: <class 'numpy.dtypes.Int64DType'>\n",
      "Dimension of array: 1\n"
     ]
    }
   ],
   "execution_count": 31
  },
  {
   "metadata": {
    "ExecuteTime": {
     "end_time": "2025-10-06T01:19:05.285628Z",
     "start_time": "2025-10-06T01:19:05.283679Z"
    }
   },
   "cell_type": "code",
   "source": [
    "# Iterating 2-D array\n",
    "n = np.array ([[1, 2, 3, 4, 5, 6, 7, 8, 9, 10],\n",
    "              [11, 12, 13, 14, 15, 16, 17, 18, 19, 20],\n",
    "              [21, 22, 23, 24, 25, 26, 27, 28, 29, 30],\n",
    "              [31, 32, 33, 34, 35, 36, 37, 38, 39, 40],\n",
    "              [41, 42, 43, 44, 45, 46, 47, 48, 49, 50]])\n",
    "\n",
    "print(f\"Original array: \\n{n}\")\n",
    "\n",
    "print(f\"\\nIterating 2-D array:\")\n",
    "\n",
    "for index, i,  in enumerate(n):\n",
    "    print(f'Row {index}: {i}')\n",
    "    for j in i:\n",
    "        print(j)\n",
    "\n",
    "print(f\"\\nType of each element: {n[0,0].dtype}\")\n",
    "print(f\"Data type: {type(n.dtype)}\")\n",
    "print(f\"Dimension of array: {n.ndim}\")"
   ],
   "id": "f1d382b3b59c05ae",
   "outputs": [
    {
     "name": "stdout",
     "output_type": "stream",
     "text": [
      "Original array: \n",
      "[[ 1  2  3  4  5  6  7  8  9 10]\n",
      " [11 12 13 14 15 16 17 18 19 20]\n",
      " [21 22 23 24 25 26 27 28 29 30]\n",
      " [31 32 33 34 35 36 37 38 39 40]\n",
      " [41 42 43 44 45 46 47 48 49 50]]\n",
      "\n",
      "Iterating 2-D array:\n",
      "Row 0: [ 1  2  3  4  5  6  7  8  9 10]\n",
      "1\n",
      "2\n",
      "3\n",
      "4\n",
      "5\n",
      "6\n",
      "7\n",
      "8\n",
      "9\n",
      "10\n",
      "Row 1: [11 12 13 14 15 16 17 18 19 20]\n",
      "11\n",
      "12\n",
      "13\n",
      "14\n",
      "15\n",
      "16\n",
      "17\n",
      "18\n",
      "19\n",
      "20\n",
      "Row 2: [21 22 23 24 25 26 27 28 29 30]\n",
      "21\n",
      "22\n",
      "23\n",
      "24\n",
      "25\n",
      "26\n",
      "27\n",
      "28\n",
      "29\n",
      "30\n",
      "Row 3: [31 32 33 34 35 36 37 38 39 40]\n",
      "31\n",
      "32\n",
      "33\n",
      "34\n",
      "35\n",
      "36\n",
      "37\n",
      "38\n",
      "39\n",
      "40\n",
      "Row 4: [41 42 43 44 45 46 47 48 49 50]\n",
      "41\n",
      "42\n",
      "43\n",
      "44\n",
      "45\n",
      "46\n",
      "47\n",
      "48\n",
      "49\n",
      "50\n",
      "\n",
      "Type of each element: int64\n",
      "Data type: <class 'numpy.dtypes.Int64DType'>\n",
      "Dimension of array: 2\n"
     ]
    }
   ],
   "execution_count": 32
  },
  {
   "metadata": {
    "ExecuteTime": {
     "end_time": "2025-10-06T01:19:05.288676Z",
     "start_time": "2025-10-06T01:19:05.286993Z"
    }
   },
   "cell_type": "code",
   "source": [
    "# Iterating 3-D array\n",
    "n = np.array([\n",
    "                [\n",
    "                    [1, 2, 3],\n",
    "                    [4, 5, 6]\n",
    "                ],\n",
    "                [\n",
    "                    [7, 8, 9],\n",
    "                    [10, 11, 12]\n",
    "                ]\n",
    "            ])\n",
    "\n",
    "print(f\"Original array: \\n{n}\")\n",
    "\n",
    "for index, i in enumerate(n):\n",
    "    print(f'\\nDepth {index}: \\n  {i}')\n",
    "    for j in i:\n",
    "        print(f' \\n    Row {index}: {j}')\n",
    "        for k in j:\n",
    "            print(f\"     {k}\")\n",
    "\n",
    "print(f\"\\nType of each element: {n[0,0,0].dtype}\")\n",
    "print(f\"Data type: {type(n.dtype)}\")"
   ],
   "id": "d54beb7737ca393d",
   "outputs": [
    {
     "name": "stdout",
     "output_type": "stream",
     "text": [
      "Original array: \n",
      "[[[ 1  2  3]\n",
      "  [ 4  5  6]]\n",
      "\n",
      " [[ 7  8  9]\n",
      "  [10 11 12]]]\n",
      "\n",
      "Depth 0: \n",
      "  [[1 2 3]\n",
      " [4 5 6]]\n",
      " \n",
      "    Row 0: [1 2 3]\n",
      "     1\n",
      "     2\n",
      "     3\n",
      " \n",
      "    Row 0: [4 5 6]\n",
      "     4\n",
      "     5\n",
      "     6\n",
      "\n",
      "Depth 1: \n",
      "  [[ 7  8  9]\n",
      " [10 11 12]]\n",
      " \n",
      "    Row 1: [7 8 9]\n",
      "     7\n",
      "     8\n",
      "     9\n",
      " \n",
      "    Row 1: [10 11 12]\n",
      "     10\n",
      "     11\n",
      "     12\n",
      "\n",
      "Type of each element: int64\n",
      "Data type: <class 'numpy.dtypes.Int64DType'>\n"
     ]
    }
   ],
   "execution_count": 33
  },
  {
   "metadata": {},
   "cell_type": "markdown",
   "source": "## Joining of arrays",
   "id": "d479a255fdfe232d"
  },
  {
   "metadata": {},
   "cell_type": "markdown",
   "source": "### Joining using concatenate(), stack(), hstack(), vstack(), dstack() and column_stack() functions",
   "id": "55e6f926c2dc04ec"
  },
  {
   "metadata": {},
   "cell_type": "markdown",
   "source": [
    "#### Joining using concatenate(arrays, axis=0, out=None, *, dtype=None, casting='same_kind') for 1-D arrays\n",
    "![<img src=\"./images/array-1d-concatenate.png\" width=\"550\" height=\"300](images/array-1d-concatenate.png)\n"
   ],
   "id": "1ad7ab353e560f0"
  },
  {
   "metadata": {
    "ExecuteTime": {
     "end_time": "2025-10-06T01:19:05.292305Z",
     "start_time": "2025-10-06T01:19:05.290733Z"
    }
   },
   "cell_type": "code",
   "source": [
    "# Joining 1-D 2 arrays using concatenate() function as shown in above image\n",
    "\n",
    "n1 = np.array ([1, 2, 3])\n",
    "n2 = np.array ([4, 5, 6])\n",
    "\n",
    "print(f\"First array: {n1}\")\n",
    "print(f\"Second array: {n2}\")\n",
    "\n",
    "n3 = np.concatenate((n1, n2))\n",
    "print(f'\\nConcatenated array: {n3}')\n",
    "print(f'\\nDimension of array: {n3.ndim}')\n"
   ],
   "id": "309ac5f3da18ec52",
   "outputs": [
    {
     "name": "stdout",
     "output_type": "stream",
     "text": [
      "First array: [1 2 3]\n",
      "Second array: [4 5 6]\n",
      "\n",
      "Concatenated array: [1 2 3 4 5 6]\n",
      "\n",
      "Dimension of array: 1\n"
     ]
    }
   ],
   "execution_count": 34
  },
  {
   "metadata": {
    "ExecuteTime": {
     "end_time": "2025-10-06T01:19:05.299032Z",
     "start_time": "2025-10-06T01:19:05.297108Z"
    }
   },
   "cell_type": "code",
   "source": [
    "# Joining 1-D 3 arrays using concatenate() function\n",
    "\n",
    "n1 = np.array ([1, 2, 3])\n",
    "n2 = np.array ([4, 5, 6])\n",
    "n3 = np.array ([7, 8, 9])\n",
    "\n",
    "print(f\"First array: {n1}\")\n",
    "print(f\"Second array: {n2}\")\n",
    "print(f\"Third array: {n3}\")\n",
    "\n",
    "n4 = np.concatenate((n1, n2, n3))\n",
    "\n",
    "print(f'Concatenated array: {n4}')\n",
    "print(f'Dimension of array: {n4.ndim}')\n",
    "print(f'Shape of array: {n4.shape}')"
   ],
   "id": "87ed843044951b61",
   "outputs": [
    {
     "name": "stdout",
     "output_type": "stream",
     "text": [
      "First array: [1 2 3]\n",
      "Second array: [4 5 6]\n",
      "Third array: [7 8 9]\n",
      "Concatenated array: [1 2 3 4 5 6 7 8 9]\n",
      "Dimension of array: 1\n",
      "Shape of array: (9,)\n"
     ]
    }
   ],
   "execution_count": 35
  },
  {
   "metadata": {},
   "cell_type": "markdown",
   "source": [
    "##### Joining using concatenate(a1, a2, ...), axis=0, out=None, dtype=None, casting=\"same_kind\") for 2-D arrays\n",
    "![<img src=\"./images/array-2d-concatenate.png\" width=\"550\" height=\"300](images/array-2d-concatenate.png)"
   ],
   "id": "e843d06ca9e53e51"
  },
  {
   "metadata": {
    "ExecuteTime": {
     "end_time": "2025-10-06T01:19:05.303425Z",
     "start_time": "2025-10-06T01:19:05.301677Z"
    }
   },
   "cell_type": "code",
   "source": [
    "# Joining 1-D arrays using concatenate() function as shown in above image\n",
    "\n",
    "n1 = np.array ([[1, 2], [3, 4]])\n",
    "n2 = np.array ([[5, 6], [7, 8]])\n",
    "\n",
    "print(f\"First array: \\n{n1}\")\n",
    "print(f\"\\nSecond array: \\n{n2}\")\n",
    "n3 = np.concatenate((n1, n2))\n",
    "print(f'\\nConcatenated array with axis 0: \\n{n3}')\n",
    "\n",
    "n4 = np.concatenate((n1, n2), axis=1)  # axis 1 will have no effect on 1-D array\n",
    "print(f'\\nConcatenated array with axis 1: \\n{n4}')"
   ],
   "id": "3ad028046386e8ab",
   "outputs": [
    {
     "name": "stdout",
     "output_type": "stream",
     "text": [
      "First array: \n",
      "[[1 2]\n",
      " [3 4]]\n",
      "\n",
      "Second array: \n",
      "[[5 6]\n",
      " [7 8]]\n",
      "\n",
      "Concatenated array with axis 0: \n",
      "[[1 2]\n",
      " [3 4]\n",
      " [5 6]\n",
      " [7 8]]\n",
      "\n",
      "Concatenated array with axis 1: \n",
      "[[1 2 5 6]\n",
      " [3 4 7 8]]\n"
     ]
    }
   ],
   "execution_count": 36
  },
  {
   "metadata": {},
   "cell_type": "markdown",
   "source": [
    "#### Joining using stack(arrays, axis=0, out=None, *, dtype=None, casting='same_kind') functions of 1-D arrays\n",
    "![<img src=\"./images/array-1d-stack.png\"](images/array-1d-stack.png)\n",
    "\n",
    "![<img src=\"./images/array-1d-stack-with-axis.png\"](images/array-1d-stack-with-axis.png)"
   ],
   "id": "257e8ae8ba4f2f10"
  },
  {
   "metadata": {
    "ExecuteTime": {
     "end_time": "2025-10-06T01:19:05.311312Z",
     "start_time": "2025-10-06T01:19:05.309385Z"
    }
   },
   "cell_type": "code",
   "source": [
    "# Joining 1-D 2 arrays using stack() function as shown in above image\n",
    "n1 = np.array ([1, 2])\n",
    "n2 = np.array ([3, 4])\n",
    "\n",
    "print(f\"First array: {n1}\")\n",
    "print(f\"Second array: {n2}\")\n",
    "\n",
    "n3 = np.stack((n1, n2))\n",
    "print(f'\\nStacked array: \\n   {n3}')\n",
    "print(f'\\nDimension of array: {n3.ndim}')\n",
    "\n",
    "n4 = np.stack((n1, n2), axis=1)\n",
    "print(f'\\nStacked array with axis 1: \\n   {n4}')"
   ],
   "id": "50f1152eed3af38a",
   "outputs": [
    {
     "name": "stdout",
     "output_type": "stream",
     "text": [
      "First array: [1 2]\n",
      "Second array: [3 4]\n",
      "\n",
      "Stacked array: \n",
      "   [[1 2]\n",
      " [3 4]]\n",
      "\n",
      "Dimension of array: 2\n",
      "\n",
      "Stacked array with axis 1: \n",
      "   [[1 3]\n",
      " [2 4]]\n"
     ]
    }
   ],
   "execution_count": 37
  },
  {
   "metadata": {
    "ExecuteTime": {
     "end_time": "2025-10-06T01:19:05.319201Z",
     "start_time": "2025-10-06T01:19:05.317001Z"
    }
   },
   "cell_type": "code",
   "source": [
    "# Joining 2-D 3 arrays using stack() function\n",
    "\n",
    "n1 = np.array ([[1, 2, 3], [4, 5, 6]])\n",
    "n2 = np.array ([[7, 8, 9], [10, 11, 12]])\n",
    "n3 = np.array ([[13, 14, 15], [16, 17, 18]])\n",
    "\n",
    "print(f\"First array: \\n{n1}\")\n",
    "print(f\"\\nSecond array: \\n{n2}\")\n",
    "print(f\"\\nThird array: \\n{n3}\")\n",
    "\n",
    "n4 = np.stack((n1, n2, n3))\n",
    "print(f'\\nStacked array: \\n   {n4}')\n",
    "print(f'\\nDimension of array: {n4.ndim}')\n",
    "print(f'Shape of array: {n4.shape}')"
   ],
   "id": "1acfa4693bfb5f4d",
   "outputs": [
    {
     "name": "stdout",
     "output_type": "stream",
     "text": [
      "First array: \n",
      "[[1 2 3]\n",
      " [4 5 6]]\n",
      "\n",
      "Second array: \n",
      "[[ 7  8  9]\n",
      " [10 11 12]]\n",
      "\n",
      "Third array: \n",
      "[[13 14 15]\n",
      " [16 17 18]]\n",
      "\n",
      "Stacked array: \n",
      "   [[[ 1  2  3]\n",
      "  [ 4  5  6]]\n",
      "\n",
      " [[ 7  8  9]\n",
      "  [10 11 12]]\n",
      "\n",
      " [[13 14 15]\n",
      "  [16 17 18]]]\n",
      "\n",
      "Dimension of array: 3\n",
      "Shape of array: (3, 2, 3)\n"
     ]
    }
   ],
   "execution_count": 38
  },
  {
   "metadata": {},
   "cell_type": "markdown",
   "source": [
    "#### Joining using hstack(tup, *, dtype=None, casting='same_kind') functions of 1-D arrays\n",
    "![<img src=\"./images/array-1d-hstack.png\"](images/array-1d-hstack.png)"
   ],
   "id": "665a1360028f046"
  },
  {
   "metadata": {
    "ExecuteTime": {
     "end_time": "2025-10-06T01:19:05.329790Z",
     "start_time": "2025-10-06T01:19:05.327965Z"
    }
   },
   "cell_type": "code",
   "source": [
    "# Joining 1-D 2 arrays using hstack() function as shown in above image\n",
    "\n",
    "n1 = np.array ([[1, 3], [2, 4]])\n",
    "n2 = np.array ([[0, 0], [1, 1]])\n",
    "\n",
    "print(f\"First array: \\n{n1}\")\n",
    "print(f\"\\nSecond array: \\n{n2}\")\n",
    "\n",
    "n3 = np.hstack((n1, n2))\n",
    "print(f'\\nHorizontally stacked array: \\n{n3}')\n",
    "print(f'\\nDimension of array: {n3.ndim}')"
   ],
   "id": "daa36e49022899e0",
   "outputs": [
    {
     "name": "stdout",
     "output_type": "stream",
     "text": [
      "First array: \n",
      "[[1 3]\n",
      " [2 4]]\n",
      "\n",
      "Second array: \n",
      "[[0 0]\n",
      " [1 1]]\n",
      "\n",
      "Horizontally stacked array: \n",
      "[[1 3 0 0]\n",
      " [2 4 1 1]]\n",
      "\n",
      "Dimension of array: 2\n"
     ]
    }
   ],
   "execution_count": 39
  },
  {
   "metadata": {
    "ExecuteTime": {
     "end_time": "2025-10-06T01:19:05.338389Z",
     "start_time": "2025-10-06T01:19:05.336466Z"
    }
   },
   "cell_type": "code",
   "source": [
    "# Joining 2-D arrays using hstack() function\n",
    "\n",
    "n1 = np.array ([[1, 2, 3], [4, 5, 6]])\n",
    "n2 = np.array ([[7, 8, 9], [10, 11, 12]])\n",
    "n3 = np.array ([[13, 14, 15], [16, 17, 18]])\n",
    "\n",
    "print(f\"First array: \\n{n1}\")\n",
    "print(f\"\\nSecond array: \\n{n2}\")\n",
    "print(f\"\\nThird array: \\n{n3}\")\n",
    "\n",
    "n4 = np.hstack((n1, n2, n3))\n",
    "print(f'\\nHorizontally stacked array: \\n{n4}')\n",
    "print(f'\\nDimension of array: {n4.ndim}')\n",
    "print(f'Shape of array: {n4.shape}')"
   ],
   "id": "904824fa5d84a525",
   "outputs": [
    {
     "name": "stdout",
     "output_type": "stream",
     "text": [
      "First array: \n",
      "[[1 2 3]\n",
      " [4 5 6]]\n",
      "\n",
      "Second array: \n",
      "[[ 7  8  9]\n",
      " [10 11 12]]\n",
      "\n",
      "Third array: \n",
      "[[13 14 15]\n",
      " [16 17 18]]\n",
      "\n",
      "Horizontally stacked array: \n",
      "[[ 1  2  3  7  8  9 13 14 15]\n",
      " [ 4  5  6 10 11 12 16 17 18]]\n",
      "\n",
      "Dimension of array: 2\n",
      "Shape of array: (2, 9)\n"
     ]
    }
   ],
   "execution_count": 40
  },
  {
   "metadata": {},
   "cell_type": "markdown",
   "source": [
    "#### Joining using dstack(tup) functions of 1-D arrays\n",
    "![<img src=\"./images/array-1d-dstack.png\"](images/array-1d-dstack.png)"
   ],
   "id": "7623de5995e35754"
  },
  {
   "metadata": {
    "ExecuteTime": {
     "end_time": "2025-10-06T01:19:05.341769Z",
     "start_time": "2025-10-06T01:19:05.340154Z"
    }
   },
   "cell_type": "code",
   "source": [
    "# Joining 1-D 2 arrays using dstack() function as shown in above image\n",
    "n1 = np.array ([3, 5, 7])\n",
    "n2 = np.array ([5, 7, 9])\n",
    "\n",
    "print(f\"First array: {n1}\")\n",
    "print(f\"\\nSecond array: {n2}\")\n",
    "n3 = np.dstack((n1, n2))\n",
    "print(f'\\nDepth stacked array: \\n{n3}')\n",
    "print(f'\\nDimension of array: {n3.ndim}')"
   ],
   "id": "6f7ac890fa245619",
   "outputs": [
    {
     "name": "stdout",
     "output_type": "stream",
     "text": [
      "First array: [3 5 7]\n",
      "\n",
      "Second array: [5 7 9]\n",
      "\n",
      "Depth stacked array: \n",
      "[[[3 5]\n",
      "  [5 7]\n",
      "  [7 9]]]\n",
      "\n",
      "Dimension of array: 3\n"
     ]
    }
   ],
   "execution_count": 41
  },
  {
   "metadata": {},
   "cell_type": "markdown",
   "source": [
    "#### Joining using vstack(tup, *, dtype=None, casting='same_kind') functions of 2D arrays\n",
    "![<img src=\"./images/array-1d-vstack.png\"](images/array-1d-vstack.png)"
   ],
   "id": "27bc3ea8e1f2cf7d"
  },
  {
   "metadata": {
    "ExecuteTime": {
     "end_time": "2025-10-06T01:19:05.351009Z",
     "start_time": "2025-10-06T01:19:05.348920Z"
    }
   },
   "cell_type": "code",
   "source": [
    "# Joining 1-D 2 arrays using vstack() function as shown in above image\n",
    "\n",
    "n1 = np.array ([[1, 1], [0, 0]])\n",
    "n2 = np.array ([[0, 1], [1, 0]])\n",
    "\n",
    "print(f\"First array: \\n{n1}\")\n",
    "print(f\"\\nSecond array: \\n{n2}\")\n",
    "\n",
    "n3 = np.vstack((n1, n2))\n",
    "print(f'\\nVertically stacked array: \\n{n3}')\n",
    "\n",
    "print(f\"\\nDimension of 1st array: {n2.ndim}\")\n",
    "print(f\"\\nDimension of 2nd array: {n2.ndim}\")\n",
    "\n",
    "print(f'Dimension of array: {n3.ndim}')"
   ],
   "id": "6cc4398cf0a0c62e",
   "outputs": [
    {
     "name": "stdout",
     "output_type": "stream",
     "text": [
      "First array: \n",
      "[[1 1]\n",
      " [0 0]]\n",
      "\n",
      "Second array: \n",
      "[[0 1]\n",
      " [1 0]]\n",
      "\n",
      "Vertically stacked array: \n",
      "[[1 1]\n",
      " [0 0]\n",
      " [0 1]\n",
      " [1 0]]\n",
      "\n",
      "Dimension of 1st array: 2\n",
      "\n",
      "Dimension of 2nd array: 2\n",
      "Dimension of array: 2\n"
     ]
    }
   ],
   "execution_count": 42
  },
  {
   "metadata": {
    "ExecuteTime": {
     "end_time": "2025-10-06T01:19:05.356987Z",
     "start_time": "2025-10-06T01:19:05.355010Z"
    }
   },
   "cell_type": "code",
   "source": [
    "# Joining 2-D arrays using vstack() function\n",
    "n1 = np.array ([[1, 2, 3], [4, 5, 6]])\n",
    "n2 = np.array ([[7, 8, 9], [10, 11, 12]])\n",
    "n3 = np.array ([[13, 14, 15], [16, 17, 18]])\n",
    "\n",
    "print(f\"First array: \\n{n1}\")\n",
    "print(f\"\\nSecond array: \\n{n2}\")\n",
    "print(f\"\\nThird array: \\n{n3}\")\n",
    "\n",
    "n4 = np.vstack((n1, n2, n3))\n",
    "print(f'\\nVertically stacked array: \\n{n4}')\n",
    "print(f'\\nDimension of array: {n4.ndim}')\n",
    "print(f'Shape of array: {n4.shape}')"
   ],
   "id": "7e34692710154013",
   "outputs": [
    {
     "name": "stdout",
     "output_type": "stream",
     "text": [
      "First array: \n",
      "[[1 2 3]\n",
      " [4 5 6]]\n",
      "\n",
      "Second array: \n",
      "[[ 7  8  9]\n",
      " [10 11 12]]\n",
      "\n",
      "Third array: \n",
      "[[13 14 15]\n",
      " [16 17 18]]\n",
      "\n",
      "Vertically stacked array: \n",
      "[[ 1  2  3]\n",
      " [ 4  5  6]\n",
      " [ 7  8  9]\n",
      " [10 11 12]\n",
      " [13 14 15]\n",
      " [16 17 18]]\n",
      "\n",
      "Dimension of array: 2\n",
      "Shape of array: (6, 3)\n"
     ]
    }
   ],
   "execution_count": 43
  },
  {
   "metadata": {
    "ExecuteTime": {
     "end_time": "2025-10-06T01:19:05.360363Z",
     "start_time": "2025-10-06T01:19:05.358556Z"
    }
   },
   "cell_type": "code",
   "source": [
    "# Joining 2-D arrays using dstack() function\n",
    "n1 = np.array ([[1, 2, 3], [4, 5, 6]])\n",
    "n2 = np.array ([[7, 8, 9], [10, 11, 12]])\n",
    "n3 = np.array ([[13, 14, 15], [16, 17, 18]])\n",
    "\n",
    "print(f\"First array: \\n{n1}\")\n",
    "print(f\"\\nSecond array: \\n{n2}\")\n",
    "print(f\"\\nThird array: \\n{n3}\")\n",
    "\n",
    "n4 = np.dstack((n1, n2, n3))\n",
    "print(f'\\nDepth stacked array: \\n{n4}')\n",
    "print(f'\\nDimension of array: {n4.ndim}')\n",
    "print(f'Shape of array: {n4.shape}')"
   ],
   "id": "1f1cb1b8db10f3c1",
   "outputs": [
    {
     "name": "stdout",
     "output_type": "stream",
     "text": [
      "First array: \n",
      "[[1 2 3]\n",
      " [4 5 6]]\n",
      "\n",
      "Second array: \n",
      "[[ 7  8  9]\n",
      " [10 11 12]]\n",
      "\n",
      "Third array: \n",
      "[[13 14 15]\n",
      " [16 17 18]]\n",
      "\n",
      "Depth stacked array: \n",
      "[[[ 1  7 13]\n",
      "  [ 2  8 14]\n",
      "  [ 3  9 15]]\n",
      "\n",
      " [[ 4 10 16]\n",
      "  [ 5 11 17]\n",
      "  [ 6 12 18]]]\n",
      "\n",
      "Dimension of array: 3\n",
      "Shape of array: (2, 3, 3)\n"
     ]
    }
   ],
   "execution_count": 44
  },
  {
   "metadata": {},
   "cell_type": "markdown",
   "source": [
    "#### Joining using column_stack(tup) functions of 1-D arrays\n",
    "![<img src=\"./images/array-1d-column-stack.png\"](images/array-1d-column-stack.png)"
   ],
   "id": "e8739f0760c23911"
  },
  {
   "metadata": {
    "ExecuteTime": {
     "end_time": "2025-10-06T01:19:05.363759Z",
     "start_time": "2025-10-06T01:19:05.361946Z"
    }
   },
   "cell_type": "code",
   "source": [
    "# Joining 1-D 2 arrays using column_stack() function as shown in above image\n",
    "n1 = np.array ([1, 2, 3])\n",
    "n2 = np.array ([2, 3, 4])\n",
    "\n",
    "print(f\"First array: {n1}\")\n",
    "print(f\"\\nSecond array: {n2}\")\n",
    "n3 = np.column_stack((n1, n2))\n",
    "print(f'\\nColumn stacked array: \\n{n3}')\n",
    "print(f'\\nDimension of array: {n3.ndim}')\n",
    "\n",
    "n4 = np.dstack((n1, n2))\n",
    "print(f\"\\nDepth stacked array: \\n{n4}\")\n",
    "print(f'\\nDimension of array: {n4.ndim}')\n",
    "\n",
    "n5 = np.vstack((n1, n2))\n",
    "print(f\"\\nVertically stacked array: \\n{n5}\")\n",
    "print(f'\\nDimension of array: {n5.ndim}')"
   ],
   "id": "8b8c5a7ad8814c62",
   "outputs": [
    {
     "name": "stdout",
     "output_type": "stream",
     "text": [
      "First array: [1 2 3]\n",
      "\n",
      "Second array: [2 3 4]\n",
      "\n",
      "Column stacked array: \n",
      "[[1 2]\n",
      " [2 3]\n",
      " [3 4]]\n",
      "\n",
      "Dimension of array: 2\n",
      "\n",
      "Depth stacked array: \n",
      "[[[1 2]\n",
      "  [2 3]\n",
      "  [3 4]]]\n",
      "\n",
      "Dimension of array: 3\n",
      "\n",
      "Vertically stacked array: \n",
      "[[1 2 3]\n",
      " [2 3 4]]\n",
      "\n",
      "Dimension of array: 2\n"
     ]
    }
   ],
   "execution_count": 45
  },
  {
   "metadata": {
    "ExecuteTime": {
     "end_time": "2025-10-06T01:19:05.371880Z",
     "start_time": "2025-10-06T01:19:05.369630Z"
    }
   },
   "cell_type": "code",
   "source": [
    "# Joining 2-D arrays using column_stack() function\n",
    "\n",
    "n1 = np.array ([[1, 2, 3], [4, 5, 6]])\n",
    "n2 = np.array ([[7, 8, 9], [10, 11, 12]])\n",
    "n3 = np.array ([[13, 14, 15], [16, 17, 18]])\n",
    "\n",
    "print(f\"First array: \\n{n1}\")\n",
    "print(f\"\\nSecond array: \\n{n2}\")\n",
    "print(f\"\\nThird array: \\n{n3}\")\n",
    "\n",
    "n4 = np.column_stack((n1, n2, n3))\n",
    "print(f'\\nColumn stacked array: \\n{n4}')\n",
    "print(f'\\nDimension of array: {n4.ndim}')\n",
    "print(f'Shape of array: {n4.shape}')"
   ],
   "id": "82a3384a1ed2535a",
   "outputs": [
    {
     "name": "stdout",
     "output_type": "stream",
     "text": [
      "First array: \n",
      "[[1 2 3]\n",
      " [4 5 6]]\n",
      "\n",
      "Second array: \n",
      "[[ 7  8  9]\n",
      " [10 11 12]]\n",
      "\n",
      "Third array: \n",
      "[[13 14 15]\n",
      " [16 17 18]]\n",
      "\n",
      "Column stacked array: \n",
      "[[ 1  2  3  7  8  9 13 14 15]\n",
      " [ 4  5  6 10 11 12 16 17 18]]\n",
      "\n",
      "Dimension of array: 2\n",
      "Shape of array: (2, 9)\n"
     ]
    }
   ],
   "execution_count": 46
  },
  {
   "metadata": {},
   "cell_type": "markdown",
   "source": "## Splitting of arrays",
   "id": "dc3f7320b9ca668b"
  },
  {
   "metadata": {},
   "cell_type": "markdown",
   "source": "#### Splitting using array_split(ary, indices_or_sections, axis=0) function",
   "id": "2df7d77fbfbdf138"
  },
  {
   "metadata": {
    "ExecuteTime": {
     "end_time": "2025-10-06T01:19:05.376533Z",
     "start_time": "2025-10-06T01:19:05.374135Z"
    }
   },
   "cell_type": "code",
   "source": [
    "# Splitting 1-D array using array_split() function\n",
    "\n",
    "n = np.array ([10, 20, 30, 40, 50, 60, 70, 80, 90, 100])\n",
    "print(f\"Original array: {n}\")\n",
    "\n",
    "n1, n2, n3 = np.array_split(n, 3)\n",
    "print('\\nAfter splitting: 1st array:', n1)\n",
    "print('After splitting: 2nd array:', n2)\n",
    "print('After splitting: 3rd array:', n3)\n",
    "\n",
    "print(f'\\nDimension of 1st array: {n1.ndim}')\n",
    "print(f'Shape of 1st array: {n1.shape}')\n",
    "print(f\"Data type of 1st array: {n1.dtype}\")\n",
    "\n",
    "print(f'\\nDimension of 2nd array: {n2.ndim}')\n",
    "print(f'Shape of 2nd array: {n2.shape}')\n",
    "print(f\"Data type of 2nd array: {n2.dtype}\")\n",
    "\n",
    "print(f'\\nDimension of 3rd array: {n3.ndim}')\n",
    "print(f'Shape of 3rd array: {n3.shape}')\n",
    "print(f\"Data type of 3rd array: {n3.dtype}\")"
   ],
   "id": "963899c82b77fb88",
   "outputs": [
    {
     "name": "stdout",
     "output_type": "stream",
     "text": [
      "Original array: [ 10  20  30  40  50  60  70  80  90 100]\n",
      "\n",
      "After splitting: 1st array: [10 20 30 40]\n",
      "After splitting: 2nd array: [50 60 70]\n",
      "After splitting: 3rd array: [ 80  90 100]\n",
      "\n",
      "Dimension of 1st array: 1\n",
      "Shape of 1st array: (4,)\n",
      "Data type of 1st array: int64\n",
      "\n",
      "Dimension of 2nd array: 1\n",
      "Shape of 2nd array: (3,)\n",
      "Data type of 2nd array: int64\n",
      "\n",
      "Dimension of 3rd array: 1\n",
      "Shape of 3rd array: (3,)\n",
      "Data type of 3rd array: int64\n"
     ]
    }
   ],
   "execution_count": 47
  },
  {
   "metadata": {
    "ExecuteTime": {
     "end_time": "2025-10-06T01:19:05.381036Z",
     "start_time": "2025-10-06T01:19:05.378928Z"
    }
   },
   "cell_type": "code",
   "source": [
    "# Splitting 2-D array using array_split() function\n",
    "\n",
    "n = np.array ([[1, 2, 3, 4, 5, 6, 7, 8, 9, 10],\n",
    "              [11, 12, 13, 14, 15, 16, 17, 18, 19, 20],\n",
    "              [21, 22, 23, 24, 25, 26, 27, 28, 29, 30],\n",
    "              [31, 32, 33, 34, 35, 36, 37, 38, 39, 40],\n",
    "              [41, 42, 43, 44, 45, 46, 47, 48, 49, 50]])\n",
    "\n",
    "print(f\"Original array: \\n{n}\")\n",
    "\n",
    "n1, n2 = np.array_split(n, 2)\n",
    "\n",
    "print(f'\\nAfter Split 1st array: \\n{n1}')\n",
    "print(f'\\nAfter Split 2nd array: \\n{n2}')\n",
    "\n",
    "print(f'\\nDimension of 1st array: {n1.ndim}')\n",
    "print(f'Shape of 1st array: {n1.shape}')\n",
    "print(f\"Data type of 1st array: {n1.dtype}\")\n",
    "\n",
    "print(f'\\nDimension of 2nd array: {n2.ndim}')\n",
    "print(f\"Shape of 2nd array: {n2.shape}\")\n",
    "print(f\"Data type of 2nd array: {n2.dtype}\")"
   ],
   "id": "37109c31f3422e22",
   "outputs": [
    {
     "name": "stdout",
     "output_type": "stream",
     "text": [
      "Original array: \n",
      "[[ 1  2  3  4  5  6  7  8  9 10]\n",
      " [11 12 13 14 15 16 17 18 19 20]\n",
      " [21 22 23 24 25 26 27 28 29 30]\n",
      " [31 32 33 34 35 36 37 38 39 40]\n",
      " [41 42 43 44 45 46 47 48 49 50]]\n",
      "\n",
      "After Split 1st array: \n",
      "[[ 1  2  3  4  5  6  7  8  9 10]\n",
      " [11 12 13 14 15 16 17 18 19 20]\n",
      " [21 22 23 24 25 26 27 28 29 30]]\n",
      "\n",
      "After Split 2nd array: \n",
      "[[31 32 33 34 35 36 37 38 39 40]\n",
      " [41 42 43 44 45 46 47 48 49 50]]\n",
      "\n",
      "Dimension of 1st array: 2\n",
      "Shape of 1st array: (3, 10)\n",
      "Data type of 1st array: int64\n",
      "\n",
      "Dimension of 2nd array: 2\n",
      "Shape of 2nd array: (2, 10)\n",
      "Data type of 2nd array: int64\n"
     ]
    }
   ],
   "execution_count": 48
  },
  {
   "metadata": {},
   "cell_type": "markdown",
   "source": "## Search Array",
   "id": "cd5764d976aebb88"
  },
  {
   "metadata": {
    "ExecuteTime": {
     "end_time": "2025-10-06T01:19:05.384296Z",
     "start_time": "2025-10-06T01:19:05.382556Z"
    }
   },
   "cell_type": "code",
   "source": [
    "# Search in 1-D array using np.where() function\n",
    "\n",
    "n = np.array ([10, 20, 30, 40, 50, 60, 70, 80, 90, 100])\n",
    "print(f\"Original array: {n}\")\n",
    "\n",
    "result = np.where(n < 50)\n",
    "print(f'\\nIndex of elements less than 50: {result}')\n",
    "\n",
    "result = np.where(n == 50)\n",
    "print(f'\\nIndex of elements equal to 50: {result}')\n",
    "\n",
    "result = np.where(n > 50)\n",
    "print(f'\\nIndex of elements greater than 50: {result}')"
   ],
   "id": "26de4ded55cfd7b6",
   "outputs": [
    {
     "name": "stdout",
     "output_type": "stream",
     "text": [
      "Original array: [ 10  20  30  40  50  60  70  80  90 100]\n",
      "\n",
      "Index of elements less than 50: (array([0, 1, 2, 3]),)\n",
      "\n",
      "Index of elements equal to 50: (array([4]),)\n",
      "\n",
      "Index of elements greater than 50: (array([5, 6, 7, 8, 9]),)\n"
     ]
    }
   ],
   "execution_count": 49
  },
  {
   "metadata": {},
   "cell_type": "markdown",
   "source": "## Sorting of array",
   "id": "d7230d3e7bd841fe"
  },
  {
   "metadata": {
    "ExecuteTime": {
     "end_time": "2025-10-06T01:19:05.395364Z",
     "start_time": "2025-10-06T01:19:05.385686Z"
    }
   },
   "cell_type": "code",
   "source": [
    "# Generate random 1-D array and sort it using np.sort() function\n",
    "\n",
    "n = np.random.randint(1, 100, 10)\n",
    "print(f\"Original array: {n}\")\n",
    "\n",
    "s = np.sort(n)\n",
    "print(f'\\nSorted array: {s}')"
   ],
   "id": "14db55746c2c04a",
   "outputs": [
    {
     "name": "stdout",
     "output_type": "stream",
     "text": [
      "Original array: [78 14 91 68 38 74 33 76 63 50]\n",
      "\n",
      "Sorted array: [14 33 38 50 63 68 74 76 78 91]\n"
     ]
    }
   ],
   "execution_count": 50
  },
  {
   "metadata": {
    "ExecuteTime": {
     "end_time": "2025-10-06T01:19:05.398803Z",
     "start_time": "2025-10-06T01:19:05.397255Z"
    }
   },
   "cell_type": "code",
   "source": [
    "# Generate random string array and sort it using np.sort() function\n",
    "\n",
    "n = np.array (['John', 'Alice', 'Bob', 'Charlie', 'David'])\n",
    "print(f\"Original array: {n}\")\n",
    "\n",
    "s = np.sort(n)\n",
    "print(f'\\nSorted array: {s}')"
   ],
   "id": "d1dff1dd1216b940",
   "outputs": [
    {
     "name": "stdout",
     "output_type": "stream",
     "text": [
      "Original array: ['John' 'Alice' 'Bob' 'Charlie' 'David']\n",
      "\n",
      "Sorted array: ['Alice' 'Bob' 'Charlie' 'David' 'John']\n"
     ]
    }
   ],
   "execution_count": 51
  },
  {
   "metadata": {
    "ExecuteTime": {
     "end_time": "2025-10-06T01:19:05.401787Z",
     "start_time": "2025-10-06T01:19:05.400187Z"
    }
   },
   "cell_type": "code",
   "source": [
    "# Generate random 2-D array and sort it using np.sort() function\n",
    "\n",
    "n = np.random.randint(1, 100, (3, 4))\n",
    "print(f\"Original array: \\n{n}\")\n",
    "\n",
    "s = np.sort(n)\n",
    "print(f'\\nSorted array: \\n{s}')"
   ],
   "id": "f9250f75f6017a5c",
   "outputs": [
    {
     "name": "stdout",
     "output_type": "stream",
     "text": [
      "Original array: \n",
      "[[76 47 34 25]\n",
      " [17 79 34 60]\n",
      " [57 36 72 52]]\n",
      "\n",
      "Sorted array: \n",
      "[[25 34 47 76]\n",
      " [17 34 60 79]\n",
      " [36 52 57 72]]\n"
     ]
    }
   ],
   "execution_count": 52
  },
  {
   "metadata": {},
   "cell_type": "markdown",
   "source": "## Axis in numpy ( Axis 0 is for rows and Axis 1 is for columns)",
   "id": "e5420bef46d0be24"
  },
  {
   "metadata": {
    "ExecuteTime": {
     "end_time": "2025-10-06T01:19:05.404800Z",
     "start_time": "2025-10-06T01:19:05.403172Z"
    }
   },
   "cell_type": "code",
   "source": [
    "# Get max value in randon generated 2-D (2 X 2) array along axis 0 and axis 1\n",
    "\n",
    "n = np.random.randint(1, 100, (2, 2))\n",
    "\n",
    "print(f\"Original array: \\n{n}\")\n",
    "\n",
    "max_axis0 = np.max(n, axis=0)\n",
    "\n",
    "print(f'\\nMax value along axis 0: {max_axis0}')\n",
    "\n",
    "max_axis1 = np.max(n, axis=1)\n",
    "\n",
    "print(f'\\nMax value along axis 1: {max_axis1}')"
   ],
   "id": "bf4f118af73c9269",
   "outputs": [
    {
     "name": "stdout",
     "output_type": "stream",
     "text": [
      "Original array: \n",
      "[[78 97]\n",
      " [75 22]]\n",
      "\n",
      "Max value along axis 0: [78 97]\n",
      "\n",
      "Max value along axis 1: [97 75]\n"
     ]
    }
   ],
   "execution_count": 53
  },
  {
   "metadata": {
    "ExecuteTime": {
     "end_time": "2025-10-06T01:19:05.407643Z",
     "start_time": "2025-10-06T01:19:05.406035Z"
    }
   },
   "cell_type": "code",
   "source": [
    "# Get max value in randon generated 2-D (3 X 4) array along axis 0 and axis 1\n",
    "\n",
    "n = np.random.randint(1, 100, (3, 4))\n",
    "print(f\"Original array: \\n{n}\")\n",
    "\n",
    "max_axis0 = np.max(n, axis=0)\n",
    "print(f'\\nMax value along axis 0: {max_axis0}')\n",
    "\n",
    "max_axis1 = np.max(n, axis=1)\n",
    "print(f'\\nMax value along axis 1: {max_axis1}')\n"
   ],
   "id": "4bbb0d3aead7574d",
   "outputs": [
    {
     "name": "stdout",
     "output_type": "stream",
     "text": [
      "Original array: \n",
      "[[74 20 74 19]\n",
      " [39  7 22  4]\n",
      " [74  1 29 98]]\n",
      "\n",
      "Max value along axis 0: [74 20 74 98]\n",
      "\n",
      "Max value along axis 1: [74 39 98]\n"
     ]
    }
   ],
   "execution_count": 54
  },
  {
   "metadata": {
    "ExecuteTime": {
     "end_time": "2025-10-06T01:19:05.410604Z",
     "start_time": "2025-10-06T01:19:05.408984Z"
    }
   },
   "cell_type": "code",
   "source": [
    "# Get min value in randon generated 2-D (2 X 2) array along axis 0 and axis 1\n",
    "\n",
    "n = np.random.randint(1, 100, (2, 2))\n",
    "print(f\"Original array: \\n{n}\")\n",
    "\n",
    "min_axis0 = np.min(n, axis=0)\n",
    "\n",
    "print(f'\\nMin value along axis 0: {min_axis0}')\n",
    "\n",
    "min_axis1 = np.min(n, axis=1)\n",
    "\n",
    "print(f'\\nMin value along axis 1: {min_axis1}')\n"
   ],
   "id": "5c29007eff50f021",
   "outputs": [
    {
     "name": "stdout",
     "output_type": "stream",
     "text": [
      "Original array: \n",
      "[[96 16]\n",
      " [17 83]]\n",
      "\n",
      "Min value along axis 0: [17 16]\n",
      "\n",
      "Min value along axis 1: [16 17]\n"
     ]
    }
   ],
   "execution_count": 55
  },
  {
   "metadata": {
    "ExecuteTime": {
     "end_time": "2025-10-06T01:19:05.413594Z",
     "start_time": "2025-10-06T01:19:05.412084Z"
    }
   },
   "cell_type": "code",
   "source": [
    "# Get max value in randon generated 2-D (3 X 4) array along axis 0 and axis 1\n",
    "\n",
    "n = np.random.randint(1, 100, (3, 4))\n",
    "\n",
    "print(f\"Original array: \\n{n}\")\n",
    "\n",
    "min_axis0 = np.min(n, axis=0)\n",
    "print(f'\\nMin value along axis 0: {min_axis0}')\n",
    "\n",
    "min_axis1 = np.min(n, axis=1)\n",
    "print(f'\\nMin value along axis 1: {min_axis1}')"
   ],
   "id": "2349edffe6fac167",
   "outputs": [
    {
     "name": "stdout",
     "output_type": "stream",
     "text": [
      "Original array: \n",
      "[[22  6 11 64]\n",
      " [75 14  1 76]\n",
      " [48 33 25 55]]\n",
      "\n",
      "Min value along axis 0: [22  6  1 55]\n",
      "\n",
      "Min value along axis 1: [ 6  1 25]\n"
     ]
    }
   ],
   "execution_count": 56
  },
  {
   "metadata": {},
   "cell_type": "markdown",
   "source": "## Intersection of arrays ( common values in two arrays)",
   "id": "e31d8d3a7582f06"
  },
  {
   "metadata": {
    "ExecuteTime": {
     "end_time": "2025-10-06T01:19:05.416742Z",
     "start_time": "2025-10-06T01:19:05.415140Z"
    }
   },
   "cell_type": "code",
   "source": [
    "# Intersection of two  random generated 1-D sorted arrays using np.intersect1d() function\n",
    "\n",
    "n1 = np.sort(np.random.randint(1, 20, 10))\n",
    "n2 = np.sort(np.random.randint(1, 20, 10))\n",
    "\n",
    "print(f\"First array: {n1}\")\n",
    "print(f\"Second array: {n2}\")\n",
    "\n",
    "n3 = np.intersect1d(n1, n2)\n",
    "print(f'\\nIntersection of two arrays: {n3}')\n",
    "print(f'\\nDimension of array: {n3.ndim}')"
   ],
   "id": "c2936335352b5672",
   "outputs": [
    {
     "name": "stdout",
     "output_type": "stream",
     "text": [
      "First array: [ 1  5  7  8  8  9 11 15 15 18]\n",
      "Second array: [ 1  5  8 11 13 14 17 17 19 19]\n",
      "\n",
      "Intersection of two arrays: [ 1  5  8 11]\n",
      "\n",
      "Dimension of array: 1\n"
     ]
    }
   ],
   "execution_count": 57
  },
  {
   "metadata": {
    "ExecuteTime": {
     "end_time": "2025-10-06T01:19:05.420038Z",
     "start_time": "2025-10-06T01:19:05.418302Z"
    }
   },
   "cell_type": "code",
   "source": [
    "# Intersection of two  random generated 1-D unsorted arrays using np.intersect1d() function\n",
    "\n",
    "n1 = np.random.randint(1, 20, 10)\n",
    "n2 = np.random.randint(1, 20, 10)\n",
    "\n",
    "print(f\"First array: {n1}\")\n",
    "print(f\"Second array: {n2}\")\n",
    "\n",
    "n3 = np.intersect1d(n1, n2)\n",
    "print(f'\\nIntersection of two arrays: {n3}')\n",
    "\n",
    "print(f'\\nDimension of array: {n3.ndim}')"
   ],
   "id": "4afcd257a0948710",
   "outputs": [
    {
     "name": "stdout",
     "output_type": "stream",
     "text": [
      "First array: [10 17 10 17  3  7  1  3 13  2]\n",
      "Second array: [12 15  9 19  7  7  3  9  9 12]\n",
      "\n",
      "Intersection of two arrays: [3 7]\n",
      "\n",
      "Dimension of array: 1\n"
     ]
    }
   ],
   "execution_count": 58
  },
  {
   "metadata": {
    "ExecuteTime": {
     "end_time": "2025-10-06T01:19:05.423642Z",
     "start_time": "2025-10-06T01:19:05.421920Z"
    }
   },
   "cell_type": "code",
   "source": [
    "# Intersection of two  random generated 1-D sorted arrays without common values using np.intersect1d() function\n",
    "\n",
    "n1 = np.array([1, 3, 5, 7, 9])\n",
    "n2 = np.array([2, 4, 6, 8, 10])\n",
    "\n",
    "print(f\"First array: {n1}\")\n",
    "print(f\"Second array: {n2}\")\n",
    "\n",
    "n3 = np.intersect1d(n1, n2)\n",
    "\n",
    "print(f'\\nIntersection of two arrays: {n3}')\n",
    "print(f'\\nDimension of array: {n3.ndim}')"
   ],
   "id": "3b17f9a2acc684af",
   "outputs": [
    {
     "name": "stdout",
     "output_type": "stream",
     "text": [
      "First array: [1 3 5 7 9]\n",
      "Second array: [ 2  4  6  8 10]\n",
      "\n",
      "Intersection of two arrays: []\n",
      "\n",
      "Dimension of array: 1\n"
     ]
    }
   ],
   "execution_count": 59
  },
  {
   "metadata": {},
   "cell_type": "markdown",
   "source": "## Difference of arrays ( values in first array but not in second array)",
   "id": "4042382621043e8d"
  },
  {
   "metadata": {
    "ExecuteTime": {
     "end_time": "2025-10-06T01:19:05.428285Z",
     "start_time": "2025-10-06T01:19:05.426356Z"
    }
   },
   "cell_type": "code",
   "source": [
    "# Difference of two  random generated 1-D sorted arrays using np.setdiff1d() function\n",
    "\n",
    "n1 = np.sort(np.random.randint(1, 20, 10))\n",
    "n2 = np.sort(np.random.randint(1, 20, 10))\n",
    "print(f\"First array: {n1}\")\n",
    "print(f\"Second array: {n2}\")\n",
    "\n",
    "n3 = np.setdiff1d(n1, n2)\n",
    "\n",
    "print(f'\\nDifference of two arrays (values in first array but not in second array): {n3}')\n",
    "\n",
    "print(f'\\nDimension of array: {n3.ndim}')"
   ],
   "id": "d99bca7e788d6658",
   "outputs": [
    {
     "name": "stdout",
     "output_type": "stream",
     "text": [
      "First array: [ 2  3  5  7  8  9 12 14 17 18]\n",
      "Second array: [ 3  4  5  5  6  6 14 14 15 18]\n",
      "\n",
      "Difference of two arrays (values in first array but not in second array): [ 2  7  8  9 12 17]\n",
      "\n",
      "Dimension of array: 1\n"
     ]
    }
   ],
   "execution_count": 60
  },
  {
   "metadata": {},
   "cell_type": "markdown",
   "source": "## Operations on arrays",
   "id": "d6ea4430cbb370b6"
  },
  {
   "metadata": {},
   "cell_type": "markdown",
   "source": "### Sum of arrays ( addition of two arrays along axis)",
   "id": "7b9ea8d4866c781f"
  },
  {
   "metadata": {
    "ExecuteTime": {
     "end_time": "2025-10-06T01:19:05.431280Z",
     "start_time": "2025-10-06T01:19:05.429613Z"
    }
   },
   "cell_type": "code",
   "source": [
    "# Sum of two random generated 1-D arrays using np.sum() function along axis\n",
    "\n",
    "n1 = np.random.randint(1, 20, 3)\n",
    "n2 = np.random.randint(1, 20, 3)\n",
    "\n",
    "print(f\"First array: {n1}\")\n",
    "print(f\"Second array: {n2}\")\n",
    "\n",
    "n3 = np.sum([n1, n2], axis=0)\n",
    "\n",
    "print(f'\\nSum of two arrays with axis 9: {n3}')\n",
    "\n",
    "n4 = np.sum([n1, n2], axis=1)\n",
    "\n",
    "print(f'\\nSum of two arrays with axis 1: {n4}')"
   ],
   "id": "87ae60d81231a41e",
   "outputs": [
    {
     "name": "stdout",
     "output_type": "stream",
     "text": [
      "First array: [12 12 17]\n",
      "Second array: [16 17 16]\n",
      "\n",
      "Sum of two arrays with axis 9: [28 29 33]\n",
      "\n",
      "Sum of two arrays with axis 1: [41 49]\n"
     ]
    }
   ],
   "execution_count": 61
  },
  {
   "metadata": {},
   "cell_type": "markdown",
   "source": "### Subtraction of arrays ( subtraction of two arrays, no axis )",
   "id": "ff0e5bc5f8f3ccc7"
  },
  {
   "metadata": {
    "ExecuteTime": {
     "end_time": "2025-10-06T01:19:05.434197Z",
     "start_time": "2025-10-06T01:19:05.432656Z"
    }
   },
   "cell_type": "code",
   "source": [
    "# Subtraction of two random generated 1-D arrays using np.subtract() function\n",
    "\n",
    "n1 = np.random.randint(1, 20, 3)\n",
    "n2 = np.random.randint(1, 20, 3)\n",
    "\n",
    "print(f\"First array: {n1}\")\n",
    "print(f\"Second array: {n2}\")\n",
    "\n",
    "n3 = np.subtract(n1, n2)\n",
    "\n",
    "print(f'\\nSubtraction of two arrays: {n3}')\n"
   ],
   "id": "cdc34ed2724764ee",
   "outputs": [
    {
     "name": "stdout",
     "output_type": "stream",
     "text": [
      "First array: [15  3 15]\n",
      "Second array: [11 13  6]\n",
      "\n",
      "Subtraction of two arrays: [  4 -10   9]\n"
     ]
    }
   ],
   "execution_count": 62
  },
  {
   "metadata": {},
   "cell_type": "markdown",
   "source": "### Multiplication of arrays ( multiplication of two arrays NO axis)",
   "id": "e187291e3b2ddce6"
  },
  {
   "metadata": {
    "ExecuteTime": {
     "end_time": "2025-10-06T01:19:05.437221Z",
     "start_time": "2025-10-06T01:19:05.435654Z"
    }
   },
   "cell_type": "code",
   "source": [
    "# Multiplication of two random generated 1-D arrays using np.multiply() function along axis\n",
    "\n",
    "n1 = np.random.randint(1, 20, 3)\n",
    "n2 = np.random.randint(1, 20, 3)\n",
    "\n",
    "print(f\"First array: {n1}\")\n",
    "print(f\"Second array: {n2}\")\n",
    "\n",
    "n3 = np.multiply(n1, n2)\n",
    "\n",
    "print(f'\\nMultiplication of two arrays: {n3}')"
   ],
   "id": "82e2d815a4f77e58",
   "outputs": [
    {
     "name": "stdout",
     "output_type": "stream",
     "text": [
      "First array: [ 8 10 10]\n",
      "Second array: [15 11  2]\n",
      "\n",
      "Multiplication of two arrays: [120 110  20]\n"
     ]
    }
   ],
   "execution_count": 63
  },
  {
   "metadata": {},
   "cell_type": "markdown",
   "source": "### Division of arrays ( division of two arrays NO axis)",
   "id": "c9ea2e8bc80ce3ae"
  },
  {
   "metadata": {
    "ExecuteTime": {
     "end_time": "2025-10-06T01:19:05.440300Z",
     "start_time": "2025-10-06T01:19:05.438665Z"
    }
   },
   "cell_type": "code",
   "source": [
    "# Division of two random generated even numbers elements 1-D arrays using np.divide()\n",
    "\n",
    "n1 = np.random.randint(2, 20, 3)*2\n",
    "n2 = np.random.randint(1, 10, 3)*2\n",
    "\n",
    "print(f\"First array: {n1}\")\n",
    "print(f\"Second array: {n2}\")\n",
    "\n",
    "n3 = np.divide(n1, n2)\n",
    "\n",
    "print(f'\\nDivision of two arrays: {n3}')"
   ],
   "id": "33eec8307b6ee42",
   "outputs": [
    {
     "name": "stdout",
     "output_type": "stream",
     "text": [
      "First array: [18 32 26]\n",
      "Second array: [ 4 14 14]\n",
      "\n",
      "Division of two arrays: [4.5        2.28571429 1.85714286]\n"
     ]
    }
   ],
   "execution_count": 64
  },
  {
   "metadata": {},
   "cell_type": "markdown",
   "source": "## Scalar operations on arrays",
   "id": "3a42ddbef81f3dbc"
  },
  {
   "metadata": {},
   "cell_type": "markdown",
   "source": "### Addition of scalar to array",
   "id": "ab1534d6eddd33bb"
  },
  {
   "metadata": {
    "ExecuteTime": {
     "end_time": "2025-10-06T01:19:05.443049Z",
     "start_time": "2025-10-06T01:19:05.441686Z"
    }
   },
   "cell_type": "code",
   "source": [
    "# Addition of scalar to random generated 1-D array using + operator\n",
    "n = np.random.randint(1, 20, 5)\n",
    "print(f\"Original array: {n}\")\n",
    "\n",
    "s = n + 5\n",
    "\n",
    "print(f'\\nArray after addition of scalar 5: {s}')"
   ],
   "id": "b43d387d66a9c0ae",
   "outputs": [
    {
     "name": "stdout",
     "output_type": "stream",
     "text": [
      "Original array: [ 2  4 11 11 19]\n",
      "\n",
      "Array after addition of scalar 5: [ 7  9 16 16 24]\n"
     ]
    }
   ],
   "execution_count": 65
  },
  {
   "metadata": {},
   "cell_type": "markdown",
   "source": "### Subtraction of scalar from array",
   "id": "33faf5bbbd1c3f80"
  },
  {
   "metadata": {
    "ExecuteTime": {
     "end_time": "2025-10-06T01:19:05.445641Z",
     "start_time": "2025-10-06T01:19:05.444294Z"
    }
   },
   "cell_type": "code",
   "source": [
    "# Subtraction of scalar from random generated 1-D array using - operator\n",
    "\n",
    "n = np.random.randint(1, 20, 5)\n",
    "print(f\"Original array: {n}\")\n",
    "\n",
    "s = n - 5\n",
    "\n",
    "print(f'\\nArray after subtraction of scalar 5: {s}')"
   ],
   "id": "ec824aa54e1c3d21",
   "outputs": [
    {
     "name": "stdout",
     "output_type": "stream",
     "text": [
      "Original array: [ 7  3 16 10  7]\n",
      "\n",
      "Array after subtraction of scalar 5: [ 2 -2 11  5  2]\n"
     ]
    }
   ],
   "execution_count": 66
  },
  {
   "metadata": {},
   "cell_type": "markdown",
   "source": "### Multiplication of array with scalar",
   "id": "d5d669d4fc25b93f"
  },
  {
   "metadata": {
    "ExecuteTime": {
     "end_time": "2025-10-06T01:19:05.448332Z",
     "start_time": "2025-10-06T01:19:05.447012Z"
    }
   },
   "cell_type": "code",
   "source": [
    "# Multiplication of random generated 1-D array with scalar using * operator\n",
    "\n",
    "n = np.random.randint(1, 20, 5)\n",
    "print(f\"Original array: {n}\")\n",
    "\n",
    "s = n * 10\n",
    "\n",
    "print(f'\\nArray after multiplication with scalar 10: {s}')"
   ],
   "id": "a1c8cad87dfe6a88",
   "outputs": [
    {
     "name": "stdout",
     "output_type": "stream",
     "text": [
      "Original array: [15  5  2 17 13]\n",
      "\n",
      "Array after multiplication with scalar 10: [150  50  20 170 130]\n"
     ]
    }
   ],
   "execution_count": 67
  },
  {
   "metadata": {},
   "cell_type": "markdown",
   "source": "### Division of array with scalar",
   "id": "359bffe8716412be"
  },
  {
   "metadata": {
    "ExecuteTime": {
     "end_time": "2025-10-06T01:19:05.451106Z",
     "start_time": "2025-10-06T01:19:05.449698Z"
    }
   },
   "cell_type": "code",
   "source": [
    "# Division of random generated even numbers elements 1-D array with scalar using / operator\n",
    "\n",
    "n = np.random.randint(1, 20, 5)*2\n",
    "\n",
    "print(f\"Original array: {n}\")\n",
    "\n",
    "s = n / 2\n",
    "\n",
    "print(f'\\nArray after division with scalar 2: {s}')"
   ],
   "id": "328ac5d1f42ec3f9",
   "outputs": [
    {
     "name": "stdout",
     "output_type": "stream",
     "text": [
      "Original array: [20  6 28 12 30]\n",
      "\n",
      "Array after division with scalar 2: [10.  3. 14.  6. 15.]\n"
     ]
    }
   ],
   "execution_count": 68
  },
  {
   "metadata": {},
   "cell_type": "markdown",
   "source": "## Statistical operations on arrays",
   "id": "9aa4b91914a3f3b5"
  },
  {
   "metadata": {},
   "cell_type": "markdown",
   "source": [
    "### Mean of array ( average of all values in array)\n",
    "$$ \\bar{x} = \\frac{\\sum_{i=1}^{n} x_i}{n} $$"
   ],
   "id": "c085a26f8967b584"
  },
  {
   "metadata": {
    "ExecuteTime": {
     "end_time": "2025-10-06T01:19:05.453889Z",
     "start_time": "2025-10-06T01:19:05.452449Z"
    }
   },
   "cell_type": "code",
   "source": [
    "# Mean of random generated 1-D array using np.mean() function\n",
    "\n",
    "n = np.sort(np.random.randint(1, 20, 5))\n",
    "print(f\"Original array: {n}\")\n",
    "\n",
    "m = np.mean(n)\n",
    "\n",
    "print(f'\\nMean of array: {m}')"
   ],
   "id": "c83a17de744e79fe",
   "outputs": [
    {
     "name": "stdout",
     "output_type": "stream",
     "text": [
      "Original array: [ 2  2  6 11 11]\n",
      "\n",
      "Mean of array: 6.4\n"
     ]
    }
   ],
   "execution_count": 69
  },
  {
   "metadata": {},
   "cell_type": "markdown",
   "source": [
    "### Median of array ( middle value in sorted array)\n",
    "\n",
    "If $n$ is odd, the median is the value at position $\\frac{n+1}{2}$\n",
    "\n",
    "If $n$ is even, the median can be calculated as:\n",
    "$$ \\text{Median} = \\frac{x_{n/2} + x_{(n/2)+1}}{2} $$"
   ],
   "id": "d0cb575097c7574"
  },
  {
   "metadata": {
    "ExecuteTime": {
     "end_time": "2025-10-06T01:19:05.456639Z",
     "start_time": "2025-10-06T01:19:05.455281Z"
    }
   },
   "cell_type": "code",
   "source": [
    "# Median of random generated 1-D array using np.median() function\n",
    "\n",
    "n = np.random.randint(1, 20, 5)\n",
    "\n",
    "print(f\"Original array: {n}\")\n",
    "m = np.median(n)\n",
    "\n",
    "print(f'\\nMedian of array: {m}')"
   ],
   "id": "4230b6e12935eb05",
   "outputs": [
    {
     "name": "stdout",
     "output_type": "stream",
     "text": [
      "Original array: [15 13  9 17  3]\n",
      "\n",
      "Median of array: 13.0\n"
     ]
    }
   ],
   "execution_count": 70
  },
  {
   "metadata": {},
   "cell_type": "markdown",
   "source": [
    "### Standard Deviation of array ( spread of values in array)\n",
    "\n",
    "$$ \\sigma = \\sqrt{\\frac{\\sum_{i=1}^{N} (x_i - \\mu)^2}{N}} $$"
   ],
   "id": "887de6fc6ceda0e0"
  },
  {
   "metadata": {
    "ExecuteTime": {
     "end_time": "2025-10-06T01:19:05.459334Z",
     "start_time": "2025-10-06T01:19:05.457988Z"
    }
   },
   "cell_type": "code",
   "source": [
    "# Standard Deviation of random generated 1-D array using np.std() function\n",
    "\n",
    "n = np.random.randint(1, 20, 5)\n",
    "\n",
    "print(f\"Original array: {n}\")\n",
    "\n",
    "s = np.std(n)\n",
    "\n",
    "print(f'\\nStandard Deviation of array: {s}')"
   ],
   "id": "6b847a03c5ed79e7",
   "outputs": [
    {
     "name": "stdout",
     "output_type": "stream",
     "text": [
      "Original array: [ 5  5  6 19 15]\n",
      "\n",
      "Standard Deviation of array: 5.865151319446072\n"
     ]
    }
   ],
   "execution_count": 71
  },
  {
   "metadata": {},
   "cell_type": "markdown",
   "source": [
    "### Variance of array ( average of squared differences from the mean)\n",
    "\n",
    "$$ \\sigma^2 = \\frac{\\sum_{i=1}^{N} (x_i - \\mu)^2}{N} $$\n",
    "\n",
    "$$ s^2 = \\frac{\\sum_{i=1}^{n} (x_i - \\bar{x})^2}{n-1} $$"
   ],
   "id": "71368b1f32de6646"
  },
  {
   "metadata": {
    "ExecuteTime": {
     "end_time": "2025-10-06T01:19:05.461841Z",
     "start_time": "2025-10-06T01:19:05.460490Z"
    }
   },
   "cell_type": "code",
   "source": [
    "# Intersection of two  random generated 1-D sorted arrays using np.intersect1d() function\n",
    "\n",
    "n = np.random.randint(1, 20, 5)\n",
    "\n",
    "print(f\"Original array: {n}\")\n",
    "\n",
    "v = np.var(n)\n",
    "\n",
    "print(f'\\nVariance of array: {v}')"
   ],
   "id": "dcdb9f5ea93d832",
   "outputs": [
    {
     "name": "stdout",
     "output_type": "stream",
     "text": [
      "Original array: [15  7  3 18  7]\n",
      "\n",
      "Variance of array: 31.2\n"
     ]
    }
   ],
   "execution_count": 72
  },
  {
   "metadata": {},
   "cell_type": "markdown",
   "source": "## Logarithm of array ( log to the base e of each element in array)",
   "id": "23b892fa34d5156b"
  },
  {
   "metadata": {},
   "cell_type": "markdown",
   "source": "### Natural Logarithm (base e)",
   "id": "d0ee6006f447c45d"
  },
  {
   "metadata": {
    "ExecuteTime": {
     "end_time": "2025-10-06T01:19:05.464557Z",
     "start_time": "2025-10-06T01:19:05.463157Z"
    }
   },
   "cell_type": "code",
   "source": [
    "# Logarithm of random generated 1-D array using np.log() function\n",
    "\n",
    "n = np.random.randint(1, 20, 5)\n",
    "\n",
    "print(f\"Original array: {n}\")\n",
    "\n",
    "l = np.log(n)\n",
    "\n",
    "print(f'\\nLogarithm of array: {l}')"
   ],
   "id": "9df028f402ac32cf",
   "outputs": [
    {
     "name": "stdout",
     "output_type": "stream",
     "text": [
      "Original array: [19  6 12 19  2]\n",
      "\n",
      "Logarithm of array: [2.94443898 1.79175947 2.48490665 2.94443898 0.69314718]\n"
     ]
    }
   ],
   "execution_count": 73
  },
  {
   "metadata": {},
   "cell_type": "markdown",
   "source": "### Logarithm to base 10",
   "id": "8e64cd019b4effd7"
  },
  {
   "metadata": {
    "ExecuteTime": {
     "end_time": "2025-10-06T01:19:05.467170Z",
     "start_time": "2025-10-06T01:19:05.465790Z"
    }
   },
   "cell_type": "code",
   "source": [
    "# Logarithm to base 10 of random generated 1-D array using np.log10 function\n",
    "\n",
    "n = np.random.randint(1, 20, 5)\n",
    "\n",
    "print(f\"Original array: {n}\")\n",
    "\n",
    "l = np.log10(n)\n",
    "\n",
    "print(f'\\nLogarithm to base 10 of array: {l}')"
   ],
   "id": "97bfd3062f490061",
   "outputs": [
    {
     "name": "stdout",
     "output_type": "stream",
     "text": [
      "Original array: [ 9 14  8 16  9]\n",
      "\n",
      "Logarithm to base 10 of array: [0.95424251 1.14612804 0.90308999 1.20411998 0.95424251]\n"
     ]
    }
   ],
   "execution_count": 74
  },
  {
   "metadata": {},
   "cell_type": "markdown",
   "source": "### Logarithm to base 2",
   "id": "420cf5a8a1d43ce3"
  },
  {
   "metadata": {
    "ExecuteTime": {
     "end_time": "2025-10-06T01:19:05.469873Z",
     "start_time": "2025-10-06T01:19:05.468376Z"
    }
   },
   "cell_type": "code",
   "source": [
    "# Logarithm to base 2 of random generated 1-D array using np.log2 function\n",
    "\n",
    "n = np.random.randint(1, 20, 5)\n",
    "\n",
    "print(f\"Original array: {n}\")\n",
    "\n",
    "l = np.log2(n)\n",
    "\n",
    "print(f'\\nLogarithm to base 2 of array: {l}')"
   ],
   "id": "c233e9e3c9bfe628",
   "outputs": [
    {
     "name": "stdout",
     "output_type": "stream",
     "text": [
      "Original array: [16 19 19 13 12]\n",
      "\n",
      "Logarithm to base 2 of array: [4.         4.24792751 4.24792751 3.70043972 3.5849625 ]\n"
     ]
    }
   ],
   "execution_count": 75
  },
  {
   "metadata": {},
   "cell_type": "markdown",
   "source": "## LCM and GCD of two arrays",
   "id": "17118d56c3f35770"
  },
  {
   "metadata": {},
   "cell_type": "markdown",
   "source": "### LCM of two arrays",
   "id": "e41a3ab98a04f2f"
  },
  {
   "metadata": {
    "ExecuteTime": {
     "end_time": "2025-10-06T01:19:05.473110Z",
     "start_time": "2025-10-06T01:19:05.471645Z"
    }
   },
   "cell_type": "code",
   "source": [
    "# LCM of two random generated 1-D arrays using np.lcm() function\n",
    "\n",
    "n1 = np.random.randint(1, 10, 5)\n",
    "\n",
    "n2 = np.random.randint(1, 10, 5)\n",
    "\n",
    "print(f\"First array: {n1}\")\n",
    "print(f\"Second array: {n2}\")\n",
    "\n",
    "l = np.lcm(n1, n2)\n",
    "\n",
    "print(f'\\nLCM of two arrays: {l}')"
   ],
   "id": "36f925746ffb423",
   "outputs": [
    {
     "name": "stdout",
     "output_type": "stream",
     "text": [
      "First array: [7 5 7 7 3]\n",
      "Second array: [8 9 5 6 1]\n",
      "\n",
      "LCM of two arrays: [56 45 35 42  3]\n"
     ]
    }
   ],
   "execution_count": 76
  },
  {
   "metadata": {},
   "cell_type": "markdown",
   "source": "### GCD of two arrays",
   "id": "2ffaa378e6e7868e"
  },
  {
   "metadata": {
    "ExecuteTime": {
     "end_time": "2025-10-06T01:19:05.475917Z",
     "start_time": "2025-10-06T01:19:05.474288Z"
    }
   },
   "cell_type": "code",
   "source": [
    "# GCD of two random generated 1-D arrays using np.gcd() function\n",
    "\n",
    "n1 = np.random.randint(1, 10, 5)\n",
    "n2 = np.random.randint(1, 10, 5)\n",
    "\n",
    "print(f\"First array: {n1}\")\n",
    "print(f\"Second array: {n2}\")\n",
    "\n",
    "g = np.gcd(n1, n2)\n",
    "\n",
    "print(f'\\nGCD of two arrays: {g}')"
   ],
   "id": "badab8b11cc0e230",
   "outputs": [
    {
     "name": "stdout",
     "output_type": "stream",
     "text": [
      "First array: [7 5 9 9 6]\n",
      "Second array: [1 5 1 6 5]\n",
      "\n",
      "GCD of two arrays: [1 5 1 3 1]\n"
     ]
    }
   ],
   "execution_count": 77
  }
 ],
 "metadata": {
  "kernelspec": {
   "display_name": "Python 3",
   "language": "python",
   "name": "python3"
  },
  "language_info": {
   "codemirror_mode": {
    "name": "ipython",
    "version": 2
   },
   "file_extension": ".py",
   "mimetype": "text/x-python",
   "name": "python",
   "nbconvert_exporter": "python",
   "pygments_lexer": "ipython2",
   "version": "2.7.6"
  }
 },
 "nbformat": 4,
 "nbformat_minor": 5
}
